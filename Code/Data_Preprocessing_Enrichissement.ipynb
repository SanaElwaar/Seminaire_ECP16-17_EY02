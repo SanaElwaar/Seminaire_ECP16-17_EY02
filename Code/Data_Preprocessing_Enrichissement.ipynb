{
 "cells": [
  {
   "cell_type": "markdown",
   "metadata": {},
   "source": [
    "# Préparer les données pour la visualisation"
   ]
  },
  {
   "cell_type": "code",
   "execution_count": 2,
   "metadata": {
    "collapsed": true
   },
   "outputs": [],
   "source": [
    "import json\n",
    "import pandas as pd\n",
    "import re\n",
    "from pattern.fr import sentiment\n",
    "import os\n",
    "from datetime import datetime\n",
    "import matplotlib.pyplot as plt\n",
    "%matplotlib inline\n",
    "import matplotlib.pyplot as plt\n",
    "%matplotlib inline"
   ]
  },
  {
   "cell_type": "markdown",
   "metadata": {},
   "source": [
    "## Charger les données du Raw_data"
   ]
  },
  {
   "cell_type": "code",
   "execution_count": 2,
   "metadata": {
    "collapsed": true
   },
   "outputs": [],
   "source": [
    "dBrande={'iphone':'apple','galaxy':'samsung','galaxy s6':'samsung','galaxy s6':'samsung','galaxy s7':'samsung','marvel':'marvel','dc comic':'dc comic','iphhone7plus':'apple'}\n",
    "def getBrand(s):\n",
    "    x=re.sub(\".json\",\"\",s).lower()\n",
    "    if x in dBrande:\n",
    "        return dBrande[x]\n",
    "    return 'NA'"
   ]
  },
  {
   "cell_type": "code",
   "execution_count": 16,
   "metadata": {
    "collapsed": false
   },
   "outputs": [],
   "source": [
    "#queries=[\"iphone\",\"iPhone\",\"IPhone7plus\"]\n",
    "tweetText=[]\n",
    "\n",
    "for doc in os.listdir(os.getcwd()+\"/raw_data\"):\n",
    "    if \"json\" in doc:\n",
    "        #doc= \"raw_data/subjTweets_\"+query+\".json\"\n",
    "        with open(\"raw_data/\"+doc, \"r\") as rFile:\n",
    "            jsonTweets=rFile.read()\n",
    "            tweets=json.loads(jsonTweets)\n",
    "            #s=str(datetime.fromtimestamp(os.stat(os.getcwd()+\"/raw_data/\"+doc).st_mtime))\n",
    "            product=re.sub(\".json\",\"\",doc).lower()\n",
    "            product=re.sub(\"tweets_\",\"\",product)\n",
    "            product=re.sub(\"_[0-9]\",\"\",product)\n",
    "            product=re.sub(\"dc comics\",\"dc comic\",product)\n",
    "            product=re.sub(\"dccomics\",\"dc comic\",product)\n",
    "            product=re.sub(\"samsungg\",\"g\",product)\n",
    "            brand=getBrand(product)\n",
    "            #t=datetime.fromtimestamp(os.stat(os.getcwd()+\"/raw_data/\"+doc).st_mtime)\n",
    "        for tweet in tweets:\n",
    "            tweetText.append([tweet[\"text\"],product,brand,tweet[\"created_at\"].split()[1:]])"
   ]
  },
  {
   "cell_type": "code",
   "execution_count": 49,
   "metadata": {
    "collapsed": true
   },
   "outputs": [],
   "source": [
    "D_mois={'Jan':'1','Fev':'2', 'Mar':'3', 'Avr':'4','Mai':'5', 'Jui':'6', 'Jui':'7', 'Aou':'8', 'Sep':'9', 'Oct':'10', 'Nov':'11', 'Dec':'12' }"
   ]
  },
  {
   "cell_type": "code",
   "execution_count": 101,
   "metadata": {
    "collapsed": false,
    "scrolled": true
   },
   "outputs": [],
   "source": [
    "def date_format(l):\n",
    "    m='1'\n",
    "    try:\n",
    "        #print(str(l[0]))\n",
    "        m=str(l[0])\n",
    "        #print(m)\n",
    "        if m in D_mois:\n",
    "            m=D_mois[m]\n",
    "            #print (type(m))\n",
    "    except:\n",
    "        print(\"error unicode or dictionnary \")\n",
    "    s=[str(m)]\n",
    "    s+=[str(l[1])]\n",
    "    s+=[str(l[-1])]\n",
    "    k=\"-\".join(s)\n",
    "    #print(k)\n",
    "    try:\n",
    "        return datetime.strptime(k, '%m-%d-%Y')\n",
    "    except:\n",
    "        print(\"error time  \")\n",
    "        return datetime.strptime('01-01-2000', '%m-%d-%Y')"
   ]
  },
  {
   "cell_type": "code",
   "execution_count": 99,
   "metadata": {
    "collapsed": false,
    "scrolled": true
   },
   "outputs": [],
   "source": [
    "DataBase = pd.DataFrame(tweetText, columns=['comment','Product','Brand',\"Date\"])\n",
    "DataBase['Date']=DataBase['Date'].apply(date_format)\n",
    "DataBase.head()"
   ]
  },
  {
   "cell_type": "markdown",
   "metadata": {},
   "source": [
    "## Transformation"
   ]
  },
  {
   "cell_type": "markdown",
   "metadata": {},
   "source": [
    "### 1. Nettoyer les commentaires"
   ]
  },
  {
   "cell_type": "markdown",
   "metadata": {},
   "source": [
    "Remplacer les émojis par des adjectifs traduisant leurs significations"
   ]
  },
  {
   "cell_type": "code",
   "execution_count": 102,
   "metadata": {
    "collapsed": true
   },
   "outputs": [],
   "source": [
    "D_emojis={r'😰':\"peur panique \", r'😉':\"heureux malin \",r'😀':\"tres heureux \",r'😃':\"tres heureux \",r'😄':\"tres heureux \", r'😁':\"desole \", r'😆':\"tres heureux \",r'😅':\"tres heureux embarasse \",r'😂':\"joie \",r'☺️':\"sourire joie \",r'😊':\"sourire joie \",\n",
    "          r'😇':\"sourire joie ange \",r'🙂':\"content \", r'🙃':\"content \",r'😉':\"content malin \",r'😌':\"indefferent \",r'😍':\"amoureux \", r'😘':\"bisou aimer \",\n",
    "          r'😗':\"bisou \",r'😙':\"bisou \",r'😚':\"bisou \",r'😊':\"content \",r'😜':\"je plaisente \",r'😝':\"je plaisente \",r'😛':\"je plaisente \",r'🤑':\"argent bien aimer \",\n",
    "          r'🤗':\"content \", r'🤓':\"nerd \",r'😎':\"content \",r'😏':\"content malin \",r'😭':\"pelurer mauvais \", r'😥':\"triste \",r'😢':\"pleurer triste \", r'😰':\"peur sueur \",\n",
    "          r'😨':\"peur embarasse \",r'😱':\"peur crier \",r'😳':\"tres surpris embarasse \",r'😵':\"tres surpris tres decu \",r'😲':\"tres surpris decu \",r'😮':\"tres surpris \",\n",
    "          r'😧':\"tres surpris \",r'😦':\"tres surpris \",r'😯':\"surpris \",r'😑':\"neutre \",r'😐':\"neutre \", r'😶':\"sans commentaire \",r'😡':\"trop enerve \",\n",
    "          r'😠':\"enerve \",r'😤':\"tres enerve \",r'😩':\"se plaindre triste \",r'😫':\"se plaindre triste \", r'😖':\"impuissance confu \",r'😣':\"impuissance \",\n",
    "          r'☹️':\"un peu triste \",r'🙁':\"desaccord un peu triste \",r'😕':\"desaccord \",r'😟':\"desaccord triste \",r'😔':\"decu ennui \",\n",
    "          r'😞':\"decu triste \",r'😒':\"decu ennui \",r'😓':\"decu \",r'😪':\"ensommeillé \",r'😴':\"dormir \",r'🙄':\"ennui \",\n",
    "          r'🤔':\"pensif \",r'❤️':\"aimer \",r'😁':\"desole \",r'🤐':\"gardien du secret \",r'😷':\"masque \",r'🤒':\"malade fievre \",\n",
    "          r'🤕':\"malade \",r'😈':\"mal \",r'👿':\"enerver \",r'👺':\"enerver \",r'💩':\"degoutant \",r'😻':\"aimer \",r'🙌':\"accord \",\n",
    "          r'👏':\"aplaudissement \",r'🙏':\"priere \",r'👍':\"bien \",r'👎':\"mauvais \",r'👊':\"ok \",r'✌️':\"victoire \", r'👌':\"tres bien\",r'💪':\"fort \",r'👩‍':\"amoureux \",r'👧‍':\"amoureux \", r'👦':\"content \"\n",
    "         }\n",
    "\n",
    "for k in D_emojis:\n",
    "    DataBase['comment']=DataBase['comment'].apply(lambda x: re.sub(k,D_emojis[k],x))"
   ]
  },
  {
   "cell_type": "markdown",
   "metadata": {},
   "source": [
    "Remplacer les lettres accentuées par des non accentuées"
   ]
  },
  {
   "cell_type": "code",
   "execution_count": 103,
   "metadata": {
    "collapsed": false
   },
   "outputs": [],
   "source": [
    "D_Accents={\"\\xea\":\"e\",\"\\xe9\":\"e\",\"\\xe8\":\"e\",\"\\xe0\":\"a\",\"\\xfb\":\"u\",\"\\xf1\":\"n\",\"\\xf2\":\"o\",\"\\xf3\":\"o\",\"\\xf4\":\"o\",\"\\xf5\":\"o\",\"\\xf6\":\"o\"}\n",
    "for i in D_Accents.keys():\n",
    "    DataBase['comment']=DataBase['comment'].apply(lambda x: re.sub(i,D_Accents[i],x))"
   ]
  },
  {
   "cell_type": "markdown",
   "metadata": {},
   "source": [
    "Eliminer tout les @XXXX et les caractères spéciaux. "
   ]
  },
  {
   "cell_type": "code",
   "execution_count": 104,
   "metadata": {
    "collapsed": false
   },
   "outputs": [
    {
     "data": {
      "text/html": [
       "<div>\n",
       "<table border=\"1\" class=\"dataframe\">\n",
       "  <thead>\n",
       "    <tr style=\"text-align: right;\">\n",
       "      <th></th>\n",
       "      <th>comment</th>\n",
       "      <th>Product</th>\n",
       "      <th>Brand</th>\n",
       "      <th>Date</th>\n",
       "    </tr>\n",
       "  </thead>\n",
       "  <tbody>\n",
       "    <tr>\n",
       "      <th>0</th>\n",
       "      <td>C beau d avoir un smartphone denier cri mais p...</td>\n",
       "      <td>gen_smartphone</td>\n",
       "      <td>NA</td>\n",
       "      <td>2016-12-26</td>\n",
       "    </tr>\n",
       "    <tr>\n",
       "      <th>1</th>\n",
       "      <td>alxbrd   bloquee sur smartphone   gt  droits d...</td>\n",
       "      <td>gen_smartphone</td>\n",
       "      <td>NA</td>\n",
       "      <td>2016-12-26</td>\n",
       "    </tr>\n",
       "    <tr>\n",
       "      <th>2</th>\n",
       "      <td>aucun Melle  un bon Wiko suffit  Ras le bol d...</td>\n",
       "      <td>gen_smartphone</td>\n",
       "      <td>NA</td>\n",
       "      <td>2016-12-26</td>\n",
       "    </tr>\n",
       "    <tr>\n",
       "      <th>3</th>\n",
       "      <td>moi je veux gagner un smartphone je me suis c...</td>\n",
       "      <td>gen_smartphone</td>\n",
       "      <td>NA</td>\n",
       "      <td>2016-12-26</td>\n",
       "    </tr>\n",
       "    <tr>\n",
       "      <th>4</th>\n",
       "      <td>je sais que c est une ville tres culturel mai...</td>\n",
       "      <td>gen_smartphone</td>\n",
       "      <td>NA</td>\n",
       "      <td>2016-12-26</td>\n",
       "    </tr>\n",
       "  </tbody>\n",
       "</table>\n",
       "</div>"
      ],
      "text/plain": [
       "                                             comment         Product Brand  \\\n",
       "0  C beau d avoir un smartphone denier cri mais p...  gen_smartphone    NA   \n",
       "1  alxbrd   bloquee sur smartphone   gt  droits d...  gen_smartphone    NA   \n",
       "2   aucun Melle  un bon Wiko suffit  Ras le bol d...  gen_smartphone    NA   \n",
       "3   moi je veux gagner un smartphone je me suis c...  gen_smartphone    NA   \n",
       "4   je sais que c est une ville tres culturel mai...  gen_smartphone    NA   \n",
       "\n",
       "        Date  \n",
       "0 2016-12-26  \n",
       "1 2016-12-26  \n",
       "2 2016-12-26  \n",
       "3 2016-12-26  \n",
       "4 2016-12-26  "
      ]
     },
     "execution_count": 104,
     "metadata": {},
     "output_type": "execute_result"
    }
   ],
   "source": [
    "DataBase['comment'] = DataBase['comment'].apply(lambda x: re.sub(r'@([a-zA-Z0-9]*)', '', x))\n",
    "DataBase['comment'] = DataBase['comment'].apply(lambda x: re.sub(r'[/:\\(\\)\\%+0-9\\n_]+', '', x))\n",
    "DataBase['comment'] = DataBase['comment'].apply(lambda x: re.sub(r'\\\\([A-Z0-9a-z]+)', '', x))\n",
    "DataBase['comment'] = DataBase['comment'].apply(lambda x: re.sub(r'[^\\w]', ' ', x))\n",
    "DataBase.head()"
   ]
  },
  {
   "cell_type": "markdown",
   "metadata": {},
   "source": [
    "### 2. Traiter les données et préparer la base pour la détection des axes"
   ]
  },
  {
   "cell_type": "markdown",
   "metadata": {},
   "source": [
    "Garder les substantifs de plus de 3 lettres."
   ]
  },
  {
   "cell_type": "code",
   "execution_count": 105,
   "metadata": {
    "collapsed": true
   },
   "outputs": [],
   "source": [
    "from pattern.fr import parse, split\n",
    "DataBase['comment_tokens'] = DataBase['comment'].apply(lambda x: parse(x.replace('.',\"\"), chunks = False, lemmata = True).split()[0])\n",
    "DataBase['comment_lemmas'] = DataBase['comment_tokens'].apply(lambda x: [t[2] for t in x if t[1] in ['NN','NNS','NNPS','NNP'] ])"
   ]
  },
  {
   "cell_type": "code",
   "execution_count": 106,
   "metadata": {
    "collapsed": false,
    "scrolled": true
   },
   "outputs": [],
   "source": [
    "from gensim.models import Phrases\n",
    "M_bigram=50\n",
    "bigram = Phrases(DataBase['comment_lemmas'], min_count=20)\n",
    "for idx in range(len(DataBase)):\n",
    "    for token in bigram[DataBase['comment_lemmas'][idx]]:\n",
    "        if '_' in token:\n",
    "            # Token is a bigram, add to document.\n",
    "            DataBase['comment_lemmas'][idx].append(token)\n",
    "\n",
    "DataBase['comment_relevant_Axis']=DataBase['comment_lemmas'].apply(lambda x:  [t for t in x if len(t)> 3])\n",
    "DataBase['comment_relevant_Axis']=DataBase['comment_relevant_Axis'].apply(lambda x:  \" \".join(x))"
   ]
  },
  {
   "cell_type": "code",
   "execution_count": 107,
   "metadata": {
    "collapsed": false
   },
   "outputs": [
    {
     "data": {
      "text/html": [
       "<div>\n",
       "<table border=\"1\" class=\"dataframe\">\n",
       "  <thead>\n",
       "    <tr style=\"text-align: right;\">\n",
       "      <th></th>\n",
       "      <th>comment</th>\n",
       "      <th>Product</th>\n",
       "      <th>Brand</th>\n",
       "      <th>Date</th>\n",
       "      <th>comment_tokens</th>\n",
       "      <th>comment_lemmas</th>\n",
       "      <th>comment_relevant_Axis</th>\n",
       "    </tr>\n",
       "  </thead>\n",
       "  <tbody>\n",
       "    <tr>\n",
       "      <th>0</th>\n",
       "      <td>C beau d avoir un smartphone denier cri mais p...</td>\n",
       "      <td>gen_smartphone</td>\n",
       "      <td>NA</td>\n",
       "      <td>2016-12-26</td>\n",
       "      <td>[[C, JJ, c], [beau, RB, beau], [d, JJ, d], [av...</td>\n",
       "      <td>[smartphone, denier, cri, notif, tre, tre]</td>\n",
       "      <td>smartphone denier notif</td>\n",
       "    </tr>\n",
       "    <tr>\n",
       "      <th>1</th>\n",
       "      <td>alxbrd   bloquee sur smartphone   gt  droits d...</td>\n",
       "      <td>gen_smartphone</td>\n",
       "      <td>NA</td>\n",
       "      <td>2016-12-26</td>\n",
       "      <td>[[alxbrd, NN, alxbrd], [bloquee, NN, bloquee],...</td>\n",
       "      <td>[alxbrd, bloquee, smartphone, gt, droit, auteu...</td>\n",
       "      <td>alxbrd bloquee smartphone droit auteur ordi</td>\n",
       "    </tr>\n",
       "    <tr>\n",
       "      <th>2</th>\n",
       "      <td>aucun Melle  un bon Wiko suffit  Ras le bol d...</td>\n",
       "      <td>gen_smartphone</td>\n",
       "      <td>NA</td>\n",
       "      <td>2016-12-26</td>\n",
       "      <td>[[aucun, DT, aucun], [Melle, NNP, melle], [un,...</td>\n",
       "      <td>[melle, wiko, ras, bol, societe, gen, smartphone]</td>\n",
       "      <td>melle wiko societe smartphone</td>\n",
       "    </tr>\n",
       "    <tr>\n",
       "      <th>3</th>\n",
       "      <td>moi je veux gagner un smartphone je me suis c...</td>\n",
       "      <td>gen_smartphone</td>\n",
       "      <td>NA</td>\n",
       "      <td>2016-12-26</td>\n",
       "      <td>[[moi, PRP, moi], [je, PRP, je], [veux, VB, vo...</td>\n",
       "      <td>[smartphone, connecte, conte]</td>\n",
       "      <td>smartphone connecte conte</td>\n",
       "    </tr>\n",
       "    <tr>\n",
       "      <th>4</th>\n",
       "      <td>je sais que c est une ville tres culturel mai...</td>\n",
       "      <td>gen_smartphone</td>\n",
       "      <td>NA</td>\n",
       "      <td>2016-12-26</td>\n",
       "      <td>[[je, PRP, je], [sais, VB, savoir], [que, IN, ...</td>\n",
       "      <td>[ville, tre, dieu, merci, statues, smartphone]</td>\n",
       "      <td>ville dieu merci statues smartphone</td>\n",
       "    </tr>\n",
       "  </tbody>\n",
       "</table>\n",
       "</div>"
      ],
      "text/plain": [
       "                                             comment         Product Brand  \\\n",
       "0  C beau d avoir un smartphone denier cri mais p...  gen_smartphone    NA   \n",
       "1  alxbrd   bloquee sur smartphone   gt  droits d...  gen_smartphone    NA   \n",
       "2   aucun Melle  un bon Wiko suffit  Ras le bol d...  gen_smartphone    NA   \n",
       "3   moi je veux gagner un smartphone je me suis c...  gen_smartphone    NA   \n",
       "4   je sais que c est une ville tres culturel mai...  gen_smartphone    NA   \n",
       "\n",
       "        Date                                     comment_tokens  \\\n",
       "0 2016-12-26  [[C, JJ, c], [beau, RB, beau], [d, JJ, d], [av...   \n",
       "1 2016-12-26  [[alxbrd, NN, alxbrd], [bloquee, NN, bloquee],...   \n",
       "2 2016-12-26  [[aucun, DT, aucun], [Melle, NNP, melle], [un,...   \n",
       "3 2016-12-26  [[moi, PRP, moi], [je, PRP, je], [veux, VB, vo...   \n",
       "4 2016-12-26  [[je, PRP, je], [sais, VB, savoir], [que, IN, ...   \n",
       "\n",
       "                                      comment_lemmas  \\\n",
       "0         [smartphone, denier, cri, notif, tre, tre]   \n",
       "1  [alxbrd, bloquee, smartphone, gt, droit, auteu...   \n",
       "2  [melle, wiko, ras, bol, societe, gen, smartphone]   \n",
       "3                      [smartphone, connecte, conte]   \n",
       "4     [ville, tre, dieu, merci, statues, smartphone]   \n",
       "\n",
       "                         comment_relevant_Axis  \n",
       "0                      smartphone denier notif  \n",
       "1  alxbrd bloquee smartphone droit auteur ordi  \n",
       "2                melle wiko societe smartphone  \n",
       "3                    smartphone connecte conte  \n",
       "4          ville dieu merci statues smartphone  "
      ]
     },
     "execution_count": 107,
     "metadata": {},
     "output_type": "execute_result"
    }
   ],
   "source": [
    "DataBase.head()"
   ]
  },
  {
   "cell_type": "markdown",
   "metadata": {},
   "source": [
    "### 2. Enrechissement de la base: Détection des thématiques:"
   ]
  },
  {
   "cell_type": "code",
   "execution_count": 108,
   "metadata": {
    "collapsed": true
   },
   "outputs": [],
   "source": [
    "DataBase.to_csv(\"CleanedData/Tweets_DataBase.csv\", sep='\\t', encoding='utf-8')"
   ]
  },
  {
   "cell_type": "code",
   "execution_count": 3,
   "metadata": {
    "collapsed": false
   },
   "outputs": [],
   "source": [
    "DataBase=pd.read_csv(\"CleanedData/DataBase_Axis.csv\", sep=str(\",\"), index_col =0)\n"
   ]
  },
  {
   "cell_type": "markdown",
   "metadata": {},
   "source": [
    "### 3. Déterminer le score de sentiment et subjectivité des commentaires"
   ]
  },
  {
   "cell_type": "markdown",
   "metadata": {},
   "source": [
    "A ce niveau nous nous contentons d'utiliser la bibliothèque pattern.fr qui s'avère plus performante (rapide, précise et simple). Les détails concernant les modèles que nous avons développé sont dans les autres notebooks. "
   ]
  },
  {
   "cell_type": "code",
   "execution_count": 4,
   "metadata": {
    "collapsed": false
   },
   "outputs": [],
   "source": [
    "DataBase['comment_sentiments']=DataBase['comment'].apply(lambda x: sentiment(x)[0])\n",
    "DataBase['comment_objectivity']=DataBase['comment'].apply(lambda x: sentiment(x)[1])"
   ]
  },
  {
   "cell_type": "code",
   "execution_count": 5,
   "metadata": {
    "collapsed": false
   },
   "outputs": [
    {
     "data": {
      "text/html": [
       "<div>\n",
       "<table border=\"1\" class=\"dataframe\">\n",
       "  <thead>\n",
       "    <tr style=\"text-align: right;\">\n",
       "      <th></th>\n",
       "      <th>comment</th>\n",
       "      <th>Product</th>\n",
       "      <th>Brande</th>\n",
       "      <th>Date</th>\n",
       "      <th>Thematiques_code</th>\n",
       "      <th>Thematiques</th>\n",
       "      <th>comment_sentiments</th>\n",
       "      <th>comment_objectivity</th>\n",
       "    </tr>\n",
       "  </thead>\n",
       "  <tbody>\n",
       "    <tr>\n",
       "      <th>0</th>\n",
       "      <td>C beau d avoir un smartphone denier cri mais p...</td>\n",
       "      <td>gen_smartphone</td>\n",
       "      <td>NaN</td>\n",
       "      <td>2016-12-26</td>\n",
       "      <td>General</td>\n",
       "      <td>General</td>\n",
       "      <td>0.300</td>\n",
       "      <td>0.50</td>\n",
       "    </tr>\n",
       "    <tr>\n",
       "      <th>1</th>\n",
       "      <td>alxbrd   bloquee sur smartphone   gt  droits d...</td>\n",
       "      <td>gen_smartphone</td>\n",
       "      <td>NaN</td>\n",
       "      <td>2016-12-26</td>\n",
       "      <td>General</td>\n",
       "      <td>General</td>\n",
       "      <td>0.170</td>\n",
       "      <td>0.00</td>\n",
       "    </tr>\n",
       "    <tr>\n",
       "      <th>2</th>\n",
       "      <td>aucun Melle  un bon Wiko suffit  Ras le bol d...</td>\n",
       "      <td>gen_smartphone</td>\n",
       "      <td>NaN</td>\n",
       "      <td>2016-12-26</td>\n",
       "      <td>General</td>\n",
       "      <td>General</td>\n",
       "      <td>0.205</td>\n",
       "      <td>0.45</td>\n",
       "    </tr>\n",
       "    <tr>\n",
       "      <th>3</th>\n",
       "      <td>moi je veux gagner un smartphone je me suis c...</td>\n",
       "      <td>gen_smartphone</td>\n",
       "      <td>NaN</td>\n",
       "      <td>2016-12-26</td>\n",
       "      <td>General</td>\n",
       "      <td>General</td>\n",
       "      <td>0.220</td>\n",
       "      <td>0.10</td>\n",
       "    </tr>\n",
       "    <tr>\n",
       "      <th>4</th>\n",
       "      <td>je sais que c est une ville tres culturel mai...</td>\n",
       "      <td>gen_smartphone</td>\n",
       "      <td>NaN</td>\n",
       "      <td>2016-12-26</td>\n",
       "      <td>General</td>\n",
       "      <td>General</td>\n",
       "      <td>0.250</td>\n",
       "      <td>0.30</td>\n",
       "    </tr>\n",
       "  </tbody>\n",
       "</table>\n",
       "</div>"
      ],
      "text/plain": [
       "                                             comment         Product Brande  \\\n",
       "0  C beau d avoir un smartphone denier cri mais p...  gen_smartphone    NaN   \n",
       "1  alxbrd   bloquee sur smartphone   gt  droits d...  gen_smartphone    NaN   \n",
       "2   aucun Melle  un bon Wiko suffit  Ras le bol d...  gen_smartphone    NaN   \n",
       "3   moi je veux gagner un smartphone je me suis c...  gen_smartphone    NaN   \n",
       "4   je sais que c est une ville tres culturel mai...  gen_smartphone    NaN   \n",
       "\n",
       "         Date Thematiques_code Thematiques  comment_sentiments  \\\n",
       "0  2016-12-26          General     General               0.300   \n",
       "1  2016-12-26          General     General               0.170   \n",
       "2  2016-12-26          General     General               0.205   \n",
       "3  2016-12-26          General     General               0.220   \n",
       "4  2016-12-26          General     General               0.250   \n",
       "\n",
       "   comment_objectivity  \n",
       "0                 0.50  \n",
       "1                 0.00  \n",
       "2                 0.45  \n",
       "3                 0.10  \n",
       "4                 0.30  "
      ]
     },
     "execution_count": 5,
     "metadata": {},
     "output_type": "execute_result"
    }
   ],
   "source": [
    "DataBase.head()"
   ]
  },
  {
   "cell_type": "markdown",
   "metadata": {},
   "source": [
    "## Charger pour la Visualisation"
   ]
  },
  {
   "cell_type": "code",
   "execution_count": 7,
   "metadata": {
    "collapsed": false
   },
   "outputs": [],
   "source": [
    "DataBase.to_csv(\"CleanedData/Tweets_Sentiment_Axis_DataBase.csv\", sep=';', encoding='utf-8')"
   ]
  }
 ],
 "metadata": {
  "anaconda-cloud": {},
  "kernelspec": {
   "display_name": "Python [conda root]",
   "language": "python",
   "name": "conda-root-py"
  },
  "language_info": {
   "codemirror_mode": {
    "name": "ipython",
    "version": 2
   },
   "file_extension": ".py",
   "mimetype": "text/x-python",
   "name": "python",
   "nbconvert_exporter": "python",
   "pygments_lexer": "ipython2",
   "version": "2.7.12"
  }
 },
 "nbformat": 4,
 "nbformat_minor": 1
}
