{
 "cells": [
  {
   "cell_type": "code",
   "execution_count": 1,
   "metadata": {
    "collapsed": true
   },
   "outputs": [],
   "source": [
    "# -*- coding: utf-8 -*-\n",
    "import re\n",
    "import pandas as pd\n",
    "from bs4 import BeautifulSoup \n",
    "import pickle\n",
    "import json\n",
    "from sklearn.cross_validation import train_test_split"
   ]
  },
  {
   "cell_type": "code",
   "execution_count": 2,
   "metadata": {
    "collapsed": false
   },
   "outputs": [],
   "source": [
    "sentimentDictionary=\"AFINN.json\"\n",
    "labeledbasefile=\"raw_data/reviews.p\"\n",
    "with open(sentimentDictionary, \"r\") as rFile:\n",
    "        sDictionary=rFile.read()\n",
    "Sdict=json.loads(sDictionary)  \n",
    "\n",
    "for k in Sdict.keys():\n",
    "    Sdict[k]=Sdict[k]+5"
   ]
  },
  {
   "cell_type": "code",
   "execution_count": 3,
   "metadata": {
    "collapsed": false
   },
   "outputs": [],
   "source": [
    "D= pickle.load(open( labeledbasefile, \"rb\" ))"
   ]
  },
  {
   "cell_type": "code",
   "execution_count": 4,
   "metadata": {
    "collapsed": false
   },
   "outputs": [],
   "source": [
    "reviews=D[D['review_content']!='']\n",
    "reviews = reviews.reset_index(drop=True)\n",
    "reviews=reviews[[\"review_content\",\"Target\"]]"
   ]
  },
  {
   "cell_type": "code",
   "execution_count": 5,
   "metadata": {
    "collapsed": true
   },
   "outputs": [],
   "source": [
    "D_Accents={\"\\xea\":\"e\",\"\\xe9\":\"e\",\"\\xe8\":\"e\",\"\\xe0\":\"a\",\"\\xfb\":\"u\",\"\\xf1\":\"n\",\"\\xf2\":\"o\",\"\\xf3\":\"o\",\"\\xf4\":\"o\",\"\\xf5\":\"o\",\"\\xf6\":\"o\"}\n",
    "for i in D_Accents.keys():\n",
    "    reviews['review_content']=reviews['review_content'].apply(lambda x: re.sub(i,D_Accents[i],x))"
   ]
  },
  {
   "cell_type": "code",
   "execution_count": 6,
   "metadata": {
    "collapsed": false,
    "scrolled": true
   },
   "outputs": [
    {
     "data": {
      "text/html": [
       "<div>\n",
       "<table border=\"1\" class=\"dataframe\">\n",
       "  <thead>\n",
       "    <tr style=\"text-align: right;\">\n",
       "      <th></th>\n",
       "      <th>review_content</th>\n",
       "      <th>Target</th>\n",
       "    </tr>\n",
       "  </thead>\n",
       "  <tbody>\n",
       "    <tr>\n",
       "      <th>0</th>\n",
       "      <td>Ca serait plutot un film tres bien si ils ont ...</td>\n",
       "      <td>0</td>\n",
       "    </tr>\n",
       "    <tr>\n",
       "      <th>1</th>\n",
       "      <td>Un univers unique, une melodie immortelle, une...</td>\n",
       "      <td>0</td>\n",
       "    </tr>\n",
       "    <tr>\n",
       "      <th>2</th>\n",
       "      <td>Je pense que compte-tenu de la rarete de ce fi...</td>\n",
       "      <td>0</td>\n",
       "    </tr>\n",
       "    <tr>\n",
       "      <th>3</th>\n",
       "      <td>un film super top, une excellente surprise, dr...</td>\n",
       "      <td>0</td>\n",
       "    </tr>\n",
       "    <tr>\n",
       "      <th>4</th>\n",
       "      <td>USA, annees 80/90. Un publicitaire Americain a...</td>\n",
       "      <td>1</td>\n",
       "    </tr>\n",
       "  </tbody>\n",
       "</table>\n",
       "</div>"
      ],
      "text/plain": [
       "                                      review_content  Target\n",
       "0  Ca serait plutot un film tres bien si ils ont ...       0\n",
       "1  Un univers unique, une melodie immortelle, une...       0\n",
       "2  Je pense que compte-tenu de la rarete de ce fi...       0\n",
       "3  un film super top, une excellente surprise, dr...       0\n",
       "4  USA, annees 80/90. Un publicitaire Americain a...       1"
      ]
     },
     "execution_count": 6,
     "metadata": {},
     "output_type": "execute_result"
    }
   ],
   "source": [
    "reviews.head()"
   ]
  },
  {
   "cell_type": "code",
   "execution_count": 7,
   "metadata": {
    "collapsed": false
   },
   "outputs": [],
   "source": [
    "from nltk.corpus import stopwords\n",
    "fr_stopwords = set(stopwords.words('french')+['les'])\n",
    "for i in D_Accents.keys():\n",
    "    fr_stopwords=[re.sub(i,D_Accents[i],x) for x in fr_stopwords]\n",
    "from nltk.stem.snowball import FrenchStemmer\n",
    "st = FrenchStemmer(ignore_stopwords=True)\n",
    "\n",
    "def count_negation(x):\n",
    "    d=[\"non\",\"pas\",\"contrairement\",\"jamais\"]\n",
    "    c=0\n",
    "    for t in x.split():\n",
    "        if t in d:\n",
    "            c=+1\n",
    "    return c\n",
    "\n",
    "def neg_words(x):\n",
    "    l=len(x.split())\n",
    "    c=0\n",
    "    for t in x.split():\n",
    "        if (t in Sdict):\n",
    "            if Sdict[t]<5:\n",
    "                c=+1\n",
    "    if l==0:\n",
    "        return 0\n",
    "    return float(c)/l\n",
    "\n",
    "def pos_words(x):\n",
    "    l=len(x.split())\n",
    "    c=0\n",
    "    for t in x.split():\n",
    "        if (t in Sdict):\n",
    "            if Sdict[t]>5:\n",
    "                c=+1\n",
    "    if l==0:\n",
    "        return 0\n",
    "    return float(c)/l\n",
    "\n",
    "def sentiment_score_lexicon(x):\n",
    "    s=0\n",
    "    n=0\n",
    "    for t in x.split():\n",
    "        if t in Sdict:\n",
    "            s=+Sdict[t]\n",
    "            n=+1\n",
    "    if n==0:\n",
    "        return 0\n",
    "    return float(s)/n"
   ]
  },
  {
   "cell_type": "code",
   "execution_count": 8,
   "metadata": {
    "collapsed": true
   },
   "outputs": [],
   "source": [
    "reviews[\"review_relevant\"]=reviews[\"review_content\"].apply(lambda x: \" \".join([t for t in x.split() if t not in fr_stopwords]))\n",
    "reviews[\"review_stemmed\"]=reviews[\"review_relevant\"].apply(lambda x: st.stem(x))\n",
    "reviews[\"review_length\"]=reviews[\"review_relevant\"].apply(lambda x: len(x))\n",
    "reviews[\"review_neg\"]=reviews[\"review_content\"].apply(lambda x: count_negation(x))\n",
    "reviews[\"review_neg_words\"]=reviews[\"review_content\"].apply(lambda x: neg_words(x))\n",
    "reviews[\"review_pos_words\"]=reviews[\"review_content\"].apply(lambda x: pos_words(x))\n",
    "reviews[\"review_Lexicon_score\"]=reviews[\"review_content\"].apply(lambda x: sentiment_score_lexicon(x))"
   ]
  },
  {
   "cell_type": "code",
   "execution_count": 9,
   "metadata": {
    "collapsed": false
   },
   "outputs": [
    {
     "data": {
      "text/html": [
       "<div>\n",
       "<table border=\"1\" class=\"dataframe\">\n",
       "  <thead>\n",
       "    <tr style=\"text-align: right;\">\n",
       "      <th></th>\n",
       "      <th>review_content</th>\n",
       "      <th>Target</th>\n",
       "      <th>review_relevant</th>\n",
       "      <th>review_stemmed</th>\n",
       "      <th>review_length</th>\n",
       "      <th>review_neg</th>\n",
       "      <th>review_neg_words</th>\n",
       "      <th>review_pos_words</th>\n",
       "      <th>review_Lexicon_score</th>\n",
       "    </tr>\n",
       "  </thead>\n",
       "  <tbody>\n",
       "    <tr>\n",
       "      <th>0</th>\n",
       "      <td>Ca serait plutot un film tres bien si ils ont ...</td>\n",
       "      <td>0</td>\n",
       "      <td>Ca plutot film tres bien si ils engager Richar...</td>\n",
       "      <td>ca plutot film tres bien si ils engager richar...</td>\n",
       "      <td>155</td>\n",
       "      <td>1</td>\n",
       "      <td>0.000000</td>\n",
       "      <td>0.030303</td>\n",
       "      <td>10.0</td>\n",
       "    </tr>\n",
       "    <tr>\n",
       "      <th>1</th>\n",
       "      <td>Un univers unique, une melodie immortelle, une...</td>\n",
       "      <td>0</td>\n",
       "      <td>Un univers unique, melodie immortelle, oeuvre ...</td>\n",
       "      <td>un univers unique, melodie immortelle, oeuvre ...</td>\n",
       "      <td>453</td>\n",
       "      <td>0</td>\n",
       "      <td>0.010753</td>\n",
       "      <td>0.000000</td>\n",
       "      <td>3.0</td>\n",
       "    </tr>\n",
       "    <tr>\n",
       "      <th>2</th>\n",
       "      <td>Je pense que compte-tenu de la rarete de ce fi...</td>\n",
       "      <td>0</td>\n",
       "      <td>Je pense compte-tenu rarete film, prix ici der...</td>\n",
       "      <td>je pense compte-tenu rarete film, prix ici der...</td>\n",
       "      <td>243</td>\n",
       "      <td>0</td>\n",
       "      <td>0.000000</td>\n",
       "      <td>0.020833</td>\n",
       "      <td>8.0</td>\n",
       "    </tr>\n",
       "    <tr>\n",
       "      <th>3</th>\n",
       "      <td>un film super top, une excellente surprise, dr...</td>\n",
       "      <td>0</td>\n",
       "      <td>film super top, excellente surprise, drole ins...</td>\n",
       "      <td>film super top, excellente surprise, drole ins...</td>\n",
       "      <td>172</td>\n",
       "      <td>0</td>\n",
       "      <td>0.000000</td>\n",
       "      <td>0.029412</td>\n",
       "      <td>8.0</td>\n",
       "    </tr>\n",
       "    <tr>\n",
       "      <th>4</th>\n",
       "      <td>USA, annees 80/90. Un publicitaire Americain a...</td>\n",
       "      <td>1</td>\n",
       "      <td>USA, annees 80/90. Un publicitaire Americain c...</td>\n",
       "      <td>usa, annees 80/90. un publicitaire americain c...</td>\n",
       "      <td>187</td>\n",
       "      <td>0</td>\n",
       "      <td>0.000000</td>\n",
       "      <td>0.000000</td>\n",
       "      <td>0.0</td>\n",
       "    </tr>\n",
       "  </tbody>\n",
       "</table>\n",
       "</div>"
      ],
      "text/plain": [
       "                                      review_content  Target  \\\n",
       "0  Ca serait plutot un film tres bien si ils ont ...       0   \n",
       "1  Un univers unique, une melodie immortelle, une...       0   \n",
       "2  Je pense que compte-tenu de la rarete de ce fi...       0   \n",
       "3  un film super top, une excellente surprise, dr...       0   \n",
       "4  USA, annees 80/90. Un publicitaire Americain a...       1   \n",
       "\n",
       "                                     review_relevant  \\\n",
       "0  Ca plutot film tres bien si ils engager Richar...   \n",
       "1  Un univers unique, melodie immortelle, oeuvre ...   \n",
       "2  Je pense compte-tenu rarete film, prix ici der...   \n",
       "3  film super top, excellente surprise, drole ins...   \n",
       "4  USA, annees 80/90. Un publicitaire Americain c...   \n",
       "\n",
       "                                      review_stemmed  review_length  \\\n",
       "0  ca plutot film tres bien si ils engager richar...            155   \n",
       "1  un univers unique, melodie immortelle, oeuvre ...            453   \n",
       "2  je pense compte-tenu rarete film, prix ici der...            243   \n",
       "3  film super top, excellente surprise, drole ins...            172   \n",
       "4  usa, annees 80/90. un publicitaire americain c...            187   \n",
       "\n",
       "   review_neg  review_neg_words  review_pos_words  review_Lexicon_score  \n",
       "0           1          0.000000          0.030303                  10.0  \n",
       "1           0          0.010753          0.000000                   3.0  \n",
       "2           0          0.000000          0.020833                   8.0  \n",
       "3           0          0.000000          0.029412                   8.0  \n",
       "4           0          0.000000          0.000000                   0.0  "
      ]
     },
     "execution_count": 9,
     "metadata": {},
     "output_type": "execute_result"
    }
   ],
   "source": [
    "reviews.head()"
   ]
  },
  {
   "cell_type": "code",
   "execution_count": 10,
   "metadata": {
    "collapsed": true
   },
   "outputs": [],
   "source": [
    "from pattern.fr import parse, split"
   ]
  },
  {
   "cell_type": "code",
   "execution_count": 11,
   "metadata": {
    "collapsed": false
   },
   "outputs": [],
   "source": [
    "reviews['comment_tokens'] = reviews['review_content'].apply(lambda x: parse(x, chunks = False, lemmata = True).split()[0])"
   ]
  },
  {
   "cell_type": "code",
   "execution_count": 12,
   "metadata": {
    "collapsed": false
   },
   "outputs": [],
   "source": [
    "reviews['comment_lemmas'] = reviews['comment_tokens'].apply(lambda x: \" \".join([t[2] for t in x ]))"
   ]
  },
  {
   "cell_type": "code",
   "execution_count": 13,
   "metadata": {
    "collapsed": false,
    "scrolled": true
   },
   "outputs": [
    {
     "data": {
      "text/html": [
       "<div>\n",
       "<table border=\"1\" class=\"dataframe\">\n",
       "  <thead>\n",
       "    <tr style=\"text-align: right;\">\n",
       "      <th></th>\n",
       "      <th>review_content</th>\n",
       "      <th>Target</th>\n",
       "      <th>review_relevant</th>\n",
       "      <th>review_stemmed</th>\n",
       "      <th>review_length</th>\n",
       "      <th>review_neg</th>\n",
       "      <th>review_neg_words</th>\n",
       "      <th>review_pos_words</th>\n",
       "      <th>review_Lexicon_score</th>\n",
       "      <th>comment_tokens</th>\n",
       "      <th>comment_lemmas</th>\n",
       "    </tr>\n",
       "  </thead>\n",
       "  <tbody>\n",
       "    <tr>\n",
       "      <th>0</th>\n",
       "      <td>Ca serait plutot un film tres bien si ils ont ...</td>\n",
       "      <td>0</td>\n",
       "      <td>Ca plutot film tres bien si ils engager Richar...</td>\n",
       "      <td>ca plutot film tres bien si ils engager richar...</td>\n",
       "      <td>155</td>\n",
       "      <td>1</td>\n",
       "      <td>0.000000</td>\n",
       "      <td>0.030303</td>\n",
       "      <td>10.0</td>\n",
       "      <td>[[Ca, VB, cer], [serait, VB, être], [plutot, N...</td>\n",
       "      <td>cer être plutot un film tre bien si il avoir p...</td>\n",
       "    </tr>\n",
       "    <tr>\n",
       "      <th>1</th>\n",
       "      <td>Un univers unique, une melodie immortelle, une...</td>\n",
       "      <td>0</td>\n",
       "      <td>Un univers unique, melodie immortelle, oeuvre ...</td>\n",
       "      <td>un univers unique, melodie immortelle, oeuvre ...</td>\n",
       "      <td>453</td>\n",
       "      <td>0</td>\n",
       "      <td>0.010753</td>\n",
       "      <td>0.000000</td>\n",
       "      <td>3.0</td>\n",
       "      <td>[[Un, DT, un], [univers, NN, univers], [unique...</td>\n",
       "      <td>un univers unique , une melodie immortel , une...</td>\n",
       "    </tr>\n",
       "    <tr>\n",
       "      <th>2</th>\n",
       "      <td>Je pense que compte-tenu de la rarete de ce fi...</td>\n",
       "      <td>0</td>\n",
       "      <td>Je pense compte-tenu rarete film, prix ici der...</td>\n",
       "      <td>je pense compte-tenu rarete film, prix ici der...</td>\n",
       "      <td>243</td>\n",
       "      <td>0</td>\n",
       "      <td>0.000000</td>\n",
       "      <td>0.020833</td>\n",
       "      <td>8.0</td>\n",
       "      <td>[[Je, PRP, je], [pense, VB, penser], [que, IN,...</td>\n",
       "      <td>je penser que compte-tenu de la rarete de ce f...</td>\n",
       "    </tr>\n",
       "    <tr>\n",
       "      <th>3</th>\n",
       "      <td>un film super top, une excellente surprise, dr...</td>\n",
       "      <td>0</td>\n",
       "      <td>film super top, excellente surprise, drole ins...</td>\n",
       "      <td>film super top, excellente surprise, drole ins...</td>\n",
       "      <td>172</td>\n",
       "      <td>0</td>\n",
       "      <td>0.000000</td>\n",
       "      <td>0.029412</td>\n",
       "      <td>8.0</td>\n",
       "      <td>[[un, DT, un], [film, NN, film], [super, NN, s...</td>\n",
       "      <td>un film super top , une excellent surprise , d...</td>\n",
       "    </tr>\n",
       "    <tr>\n",
       "      <th>4</th>\n",
       "      <td>USA, annees 80/90. Un publicitaire Americain a...</td>\n",
       "      <td>1</td>\n",
       "      <td>USA, annees 80/90. Un publicitaire Americain c...</td>\n",
       "      <td>usa, annees 80/90. un publicitaire americain c...</td>\n",
       "      <td>187</td>\n",
       "      <td>0</td>\n",
       "      <td>0.000000</td>\n",
       "      <td>0.000000</td>\n",
       "      <td>0.0</td>\n",
       "      <td>[[USA, NNPS, usa], [,, ,, ,], [annees, NNS, an...</td>\n",
       "      <td>usa , annee 80 .</td>\n",
       "    </tr>\n",
       "  </tbody>\n",
       "</table>\n",
       "</div>"
      ],
      "text/plain": [
       "                                      review_content  Target  \\\n",
       "0  Ca serait plutot un film tres bien si ils ont ...       0   \n",
       "1  Un univers unique, une melodie immortelle, une...       0   \n",
       "2  Je pense que compte-tenu de la rarete de ce fi...       0   \n",
       "3  un film super top, une excellente surprise, dr...       0   \n",
       "4  USA, annees 80/90. Un publicitaire Americain a...       1   \n",
       "\n",
       "                                     review_relevant  \\\n",
       "0  Ca plutot film tres bien si ils engager Richar...   \n",
       "1  Un univers unique, melodie immortelle, oeuvre ...   \n",
       "2  Je pense compte-tenu rarete film, prix ici der...   \n",
       "3  film super top, excellente surprise, drole ins...   \n",
       "4  USA, annees 80/90. Un publicitaire Americain c...   \n",
       "\n",
       "                                      review_stemmed  review_length  \\\n",
       "0  ca plutot film tres bien si ils engager richar...            155   \n",
       "1  un univers unique, melodie immortelle, oeuvre ...            453   \n",
       "2  je pense compte-tenu rarete film, prix ici der...            243   \n",
       "3  film super top, excellente surprise, drole ins...            172   \n",
       "4  usa, annees 80/90. un publicitaire americain c...            187   \n",
       "\n",
       "   review_neg  review_neg_words  review_pos_words  review_Lexicon_score  \\\n",
       "0           1          0.000000          0.030303                  10.0   \n",
       "1           0          0.010753          0.000000                   3.0   \n",
       "2           0          0.000000          0.020833                   8.0   \n",
       "3           0          0.000000          0.029412                   8.0   \n",
       "4           0          0.000000          0.000000                   0.0   \n",
       "\n",
       "                                      comment_tokens  \\\n",
       "0  [[Ca, VB, cer], [serait, VB, être], [plutot, N...   \n",
       "1  [[Un, DT, un], [univers, NN, univers], [unique...   \n",
       "2  [[Je, PRP, je], [pense, VB, penser], [que, IN,...   \n",
       "3  [[un, DT, un], [film, NN, film], [super, NN, s...   \n",
       "4  [[USA, NNPS, usa], [,, ,, ,], [annees, NNS, an...   \n",
       "\n",
       "                                      comment_lemmas  \n",
       "0  cer être plutot un film tre bien si il avoir p...  \n",
       "1  un univers unique , une melodie immortel , une...  \n",
       "2  je penser que compte-tenu de la rarete de ce f...  \n",
       "3  un film super top , une excellent surprise , d...  \n",
       "4                                   usa , annee 80 .  "
      ]
     },
     "execution_count": 13,
     "metadata": {},
     "output_type": "execute_result"
    }
   ],
   "source": [
    "reviews.head()"
   ]
  },
  {
   "cell_type": "markdown",
   "metadata": {},
   "source": [
    "# Model training"
   ]
  },
  {
   "cell_type": "markdown",
   "metadata": {},
   "source": [
    "## 1. Modèles simples: des features basiques"
   ]
  },
  {
   "cell_type": "markdown",
   "metadata": {},
   "source": [
    "### Cross validation split "
   ]
  },
  {
   "cell_type": "code",
   "execution_count": 14,
   "metadata": {
    "collapsed": false
   },
   "outputs": [
    {
     "data": {
      "text/html": [
       "<div>\n",
       "<table border=\"1\" class=\"dataframe\">\n",
       "  <thead>\n",
       "    <tr style=\"text-align: right;\">\n",
       "      <th></th>\n",
       "      <th>review_length</th>\n",
       "      <th>review_neg</th>\n",
       "      <th>review_neg_words</th>\n",
       "      <th>review_pos_words</th>\n",
       "      <th>review_Lexicon_score</th>\n",
       "    </tr>\n",
       "  </thead>\n",
       "  <tbody>\n",
       "    <tr>\n",
       "      <th>13373</th>\n",
       "      <td>275</td>\n",
       "      <td>0</td>\n",
       "      <td>0.014286</td>\n",
       "      <td>0.014286</td>\n",
       "      <td>4.0</td>\n",
       "    </tr>\n",
       "    <tr>\n",
       "      <th>4056</th>\n",
       "      <td>65</td>\n",
       "      <td>0</td>\n",
       "      <td>0.000000</td>\n",
       "      <td>0.000000</td>\n",
       "      <td>0.0</td>\n",
       "    </tr>\n",
       "    <tr>\n",
       "      <th>29862</th>\n",
       "      <td>276</td>\n",
       "      <td>0</td>\n",
       "      <td>0.014286</td>\n",
       "      <td>0.014286</td>\n",
       "      <td>3.0</td>\n",
       "    </tr>\n",
       "    <tr>\n",
       "      <th>7221</th>\n",
       "      <td>134</td>\n",
       "      <td>1</td>\n",
       "      <td>0.000000</td>\n",
       "      <td>0.045455</td>\n",
       "      <td>8.0</td>\n",
       "    </tr>\n",
       "    <tr>\n",
       "      <th>28123</th>\n",
       "      <td>52</td>\n",
       "      <td>0</td>\n",
       "      <td>0.000000</td>\n",
       "      <td>0.111111</td>\n",
       "      <td>8.0</td>\n",
       "    </tr>\n",
       "  </tbody>\n",
       "</table>\n",
       "</div>"
      ],
      "text/plain": [
       "       review_length  review_neg  review_neg_words  review_pos_words  \\\n",
       "13373            275           0          0.014286          0.014286   \n",
       "4056              65           0          0.000000          0.000000   \n",
       "29862            276           0          0.014286          0.014286   \n",
       "7221             134           1          0.000000          0.045455   \n",
       "28123             52           0          0.000000          0.111111   \n",
       "\n",
       "       review_Lexicon_score  \n",
       "13373                   4.0  \n",
       "4056                    0.0  \n",
       "29862                   3.0  \n",
       "7221                    8.0  \n",
       "28123                   8.0  "
      ]
     },
     "execution_count": 14,
     "metadata": {},
     "output_type": "execute_result"
    }
   ],
   "source": [
    "Simple_reviews= reviews[[\"Target\",\"review_length\",\"review_neg\",\"review_neg_words\",\"review_pos_words\",\"review_Lexicon_score\"]]\n",
    "X_train, X_test, y_train, y_test = train_test_split(Simple_reviews[[\"review_length\",\"review_neg\",\"review_neg_words\",\"review_pos_words\",\"review_Lexicon_score\"]], Simple_reviews[\"Target\"], test_size=0.4, random_state=0)\n",
    "X_train.head()"
   ]
  },
  {
   "cell_type": "markdown",
   "metadata": {},
   "source": [
    "### Entrainement et test des modèles"
   ]
  },
  {
   "cell_type": "markdown",
   "metadata": {},
   "source": [
    "#### a. Random Forest"
   ]
  },
  {
   "cell_type": "code",
   "execution_count": 20,
   "metadata": {
    "collapsed": false
   },
   "outputs": [],
   "source": [
    "from sklearn.ensemble import RandomForestClassifier\n",
    "clf = RandomForestClassifier(n_estimators = 1200) \n",
    "\n",
    "forest = clf.fit( X_train,  y_train)\n",
    "#pred_train = forest3.predict(features)"
   ]
  },
  {
   "cell_type": "code",
   "execution_count": 21,
   "metadata": {
    "collapsed": false,
    "scrolled": true
   },
   "outputs": [
    {
     "data": {
      "text/plain": [
       "0.58078125000000003"
      ]
     },
     "execution_count": 21,
     "metadata": {},
     "output_type": "execute_result"
    }
   ],
   "source": [
    "forest.score(X_test, y_test) "
   ]
  },
  {
   "cell_type": "code",
   "execution_count": 22,
   "metadata": {
    "collapsed": false,
    "scrolled": true
   },
   "outputs": [
    {
     "data": {
      "image/png": "[encoded data removed]",
      "text/plain": [
       "<matplotlib.figure.Figure at 0x123626f10>"
      ]
     },
     "metadata": {},
     "output_type": "display_data"
    }
   ],
   "source": [
    "importances = forest.feature_importances_\n",
    "\n",
    "import matplotlib.pyplot as plt\n",
    "plt.plot(importances)\n",
    "plt.show()\n"
   ]
  },
  {
   "cell_type": "markdown",
   "metadata": {},
   "source": [
    "#### b. Gradient Boosting Model"
   ]
  },
  {
   "cell_type": "code",
   "execution_count": 23,
   "metadata": {
    "collapsed": false
   },
   "outputs": [],
   "source": [
    "from sklearn.ensemble import GradientBoostingClassifier\n",
    "GB = GradientBoostingClassifier(n_estimators = 1200) \n",
    "\n",
    "GBM = GB.fit( X_train,  y_train)\n",
    "#pred_train = GBM.predict(features)"
   ]
  },
  {
   "cell_type": "code",
   "execution_count": 24,
   "metadata": {
    "collapsed": false,
    "scrolled": false
   },
   "outputs": [
    {
     "data": {
      "text/plain": [
       "0.60399999999999998"
      ]
     },
     "execution_count": 24,
     "metadata": {},
     "output_type": "execute_result"
    }
   ],
   "source": [
    "GBM.score(X_test, y_test) "
   ]
  },
  {
   "cell_type": "markdown",
   "metadata": {},
   "source": [
    "#### c. Support Vector Machine"
   ]
  },
  {
   "cell_type": "markdown",
   "metadata": {},
   "source": [
    "L'entrainement de SVM est très consommateur de puissance de calcul..."
   ]
  },
  {
   "cell_type": "code",
   "execution_count": null,
   "metadata": {
    "collapsed": true
   },
   "outputs": [],
   "source": [
    "from sklearn import svm"
   ]
  },
  {
   "cell_type": "code",
   "execution_count": null,
   "metadata": {
    "collapsed": true
   },
   "outputs": [],
   "source": [
    "SVM = svm.SVC(C=1.0, kernel='linear')\n",
    "%time SVM1=SVM.fit( X_train,  y_train) "
   ]
  },
  {
   "cell_type": "code",
   "execution_count": null,
   "metadata": {
    "collapsed": true
   },
   "outputs": [],
   "source": [
    "%time SVM1.score(X_test, y_test) "
   ]
  },
  {
   "cell_type": "code",
   "execution_count": null,
   "metadata": {
    "collapsed": true
   },
   "outputs": [],
   "source": [
    "from sklearn import svm\n",
    "SVM_2 = svm.SVC(C=1.0, kernel='poly')\n",
    "SVM2=SVM_2.fit( X_train,  y_train) "
   ]
  },
  {
   "cell_type": "code",
   "execution_count": null,
   "metadata": {
    "collapsed": true
   },
   "outputs": [],
   "source": [
    "SVM2.score(X_test, y_test) "
   ]
  },
  {
   "cell_type": "markdown",
   "metadata": {},
   "source": [
    "## 2. Modèle composé: des features avancés"
   ]
  },
  {
   "cell_type": "markdown",
   "metadata": {},
   "source": [
    "### Vectorisation des données:  Term Centrality-Invese Document Frequency \n",
    "Une méthode de vectorisation du corpus qui \"respecte\" l'ordre des mots dans les phrases en lui accordant un poids correspondant à la centralité du noeud du mot dans le graph des mots des documents, puis le multiplie par la correction IDF qu permet d'éliminer les stopwords (les mots non significatifs qui sont dans tout les textes presque)."
   ]
  },
  {
   "cell_type": "markdown",
   "metadata": {},
   "source": [
    "##### createGraphFeatures Function definition "
   ]
  },
  {
   "cell_type": "code",
   "execution_count": 15,
   "metadata": {
    "collapsed": true
   },
   "outputs": [],
   "source": [
    "# Code copié, cf : https://github.com/y3nk0/Graph-Based-TC \n",
    "import networkx as nx\n",
    "import string\n",
    "from sys import maxint\n",
    "import numpy as np\n",
    "import time\n",
    "import re\n",
    "import os.path\n",
    "import math\n",
    "from scipy.stats import pearsonr,kendalltau\n",
    "import matplotlib.pyplot as plt\n",
    "\n",
    "#===============================================================================\n",
    "# core_Size_Distribution(core_sequence)\n",
    "#===============================================================================\n",
    "def core_Size_Distribution(core_sequence):\n",
    "    \"\"\"\n",
    "    core_Size_Distribution(core_sequence)\n",
    "    The function takes as input the core sequence of a graph and returns the distribution\n",
    "    of the cores' sizes (k-core size vs. k)\n",
    "    \"\"\"\n",
    "\n",
    "    max_core_number = max(core_sequence.values()) #maximum core number\n",
    "\n",
    "    # core_sizes: size of each core indexed by position\n",
    "    (core_sizes, x, y) = plt.hist(core_sequence.values(), bins=max_core_number)\n",
    "\n",
    "    print \"Core sizes:\", core_sizes, \"\\n\"\n",
    "    #print max_core_number\n",
    "\n",
    "    # plot in log-log axis\n",
    "    # x: core size, k    y: number of nodes in k-core\n",
    "    plt.loglog(range(1, len(core_sizes)+1), core_sizes, 'o-', linewidth=2)\n",
    "    plt.xlabel('Core Number, k')\n",
    "    plt.ylabel('Size of Core')\n",
    "\n",
    "    plt.show()\n",
    "\n",
    "def createGraphFeatures(num_documents,clean_train_documents,unique_words,bigrams,sliding_window,b,idf_par,centrality_par,centrality_col_par,train_par,idf_learned,icw_learned,kcore_par,dGcol_nodes,max_core_col,kcore_par_int,max_core_feat,feature_reduction,avgLen):\n",
    "    features = np.zeros((num_documents,len(unique_words)))\n",
    "    unique_words_len = len(unique_words)\n",
    "    term_num_docs = {}\n",
    "\n",
    "    print \"sliding_window:\"+str(sliding_window)\n",
    "    if train_par:\n",
    "        print \"Training set...\"\n",
    "        idfs = {}\n",
    "        dGcol_nodes = {}\n",
    "        icws = {}\n",
    "        max_core_feat = []\n",
    "\n",
    "        print \"Creating the graph of words for collection...\"\n",
    "\n",
    "        if centrality_col_par==\"pagerank_centrality\" or centrality_col_par==\"in_degree_centrality\" or centrality_col_par==\"out_degree_centrality\" or centrality_col_par==\"closeness_centrality_directed\" or centrality_col_par==\"betweenness_centrality_directed\":\n",
    "            dGcol = nx.DiGraph()\n",
    "        else:\n",
    "            dGcol = nx.Graph()\n",
    "        \n",
    "        totalLen = 0\n",
    "        for i in range( 0,num_documents ):\n",
    "            #dG = nx.Graph()\n",
    "            found_unique_words = []\n",
    "            wordList1 = clean_train_documents[i].split(None)\n",
    "            wordList2 = [string.rstrip(x.lower(), ',.!?;') for x in wordList1]\n",
    "\n",
    "            docLen = len(wordList2)\n",
    "            totalLen += docLen\n",
    "\n",
    "            # print clean_train_documents[i]\n",
    "            if len(wordList2)>1:\n",
    "                for k, word in enumerate(wordList2):\n",
    "\n",
    "                    if word not in found_unique_words:\n",
    "                        found_unique_words.append(word)\n",
    "                        if word not in term_num_docs:\n",
    "                            term_num_docs[word] = 1\n",
    "                        else:\n",
    "                            term_num_docs[word] += 1\n",
    "\n",
    "                    for j in xrange(1,sliding_window):\n",
    "                        try:\n",
    "                            next_word = wordList2[k + j]\n",
    "                            # print word+\"\\t\"+next_word\n",
    "                            # time.sleep(2)\n",
    "                            if not dGcol.has_node(word):\n",
    "                                dGcol.add_node(word)\n",
    "                                dGcol.node[word]['count'] = 1\n",
    "                                \n",
    "                            else:\n",
    "                                dGcol.node[word]['count'] += 1\n",
    "                                \n",
    "                            if not dGcol.has_node(next_word):\n",
    "                                dGcol.add_node(next_word)\n",
    "                                dGcol.node[next_word]['count'] = 0\n",
    "\n",
    "                            if not dGcol.has_edge(word, next_word):\n",
    "                                dGcol.add_edge(word, next_word, weight = 1)\n",
    "                            else:\n",
    "                                dGcol.edge[word][next_word]['weight'] += 1\n",
    "                        except IndexError:\n",
    "                            if not dGcol.has_node(word):\n",
    "                                dGcol.add_node(word)\n",
    "                                dGcol.node[word]['count'] = 1\n",
    "                            else:\n",
    "                                dGcol.node[word]['count'] += 1\n",
    "                        except:\n",
    "                            raise\n",
    "\n",
    "        print \"Number of self-loops for collection graph:\"+str(dGcol.number_of_selfloops())\n",
    "        dGcol.remove_edges_from(dGcol.selfloop_edges())\n",
    "        collection_count_nodes = dGcol.number_of_nodes()\n",
    "        collection_count_edges = dGcol.number_of_edges()\n",
    "        print \"Number of nodes in collection graph:\"+str(collection_count_nodes)\n",
    "        print \"Number of edges in collection graph:\"+str(collection_count_edges)\n",
    "        avgLen = float(totalLen)/num_documents\n",
    "        print \"Average document length:\"+str(avgLen)\n",
    "        \n",
    "   \n",
    "        if idf_par==\"icw\" or idf_par==\"icw+idf\" or idf_par==\"tf-icw\":\n",
    "            icw_col = {}\n",
    "\n",
    "            if(kcore_par==\"A1\" or kcore_par==\"A2\"):\n",
    "                collection_core = nx.core_number(dGcol)\n",
    "                max_core = max(collection_core.values())\n",
    "                print \"Max core of collection:\"+str(max_core)\n",
    "                # core_Size_Distribution(collection_core)\n",
    "                for k,g in enumerate(dGcol.nodes()):\n",
    "                    if kcore_par==\"A1\":\n",
    "                        # A1 method: remove features and then rank\n",
    "                        for x in range(0,kcore_par_int):\n",
    "                            if collection_core[g]==max_core-x:\n",
    "                                dGcol.remove_node(g)\n",
    "                    else:\n",
    "                        # A2 method: rank first and then remove features\n",
    "                        for x in range(0,kcore_par_int):\n",
    "                            if collection_core[g]==max_core-x:\n",
    "                                max_core_col.append(g)\n",
    "\n",
    "\n",
    "            if centrality_col_par == \"degree_centrality\":\n",
    "                centrality_col = nx.degree_centrality(dGcol)\n",
    "            elif centrality_col_par==\"in_degree_centrality\":\n",
    "                centrality_col = nx.in_degree_centrality(dGcol)\n",
    "            elif centrality_col_par==\"out_degree_centrality\":\n",
    "                centrality_col = nx.out_degree_centrality(dGcol)\n",
    "            elif centrality_col_par == \"pagerank_centrality\":\n",
    "                # centrality_col = pg.pagerank(dGcol,max_iter=1000)\n",
    "                centrality_col = nx.pagerank(dGcol)\n",
    "            elif centrality_col_par == \"eigenvector_centrality\":\n",
    "                centrality_col = nx.eigenvector_centrality(dGcol,max_iter=1000)\n",
    "            elif centrality_col_par == \"betweenness_centrality\" or centrality_col_par==\"betweenness_centrality_directed\":\n",
    "                centrality_col = nx.betweenness_centrality(dGcol)\n",
    "            elif centrality_col_par == \"triangles\":\n",
    "                centrality_col = nx.triangles(dGcol)\n",
    "            elif centrality_col_par == \"clustering_coefficient\":\n",
    "                centrality_col = nx.clustering(dGcol)\n",
    "            elif centrality_col_par == \"core_number\":\n",
    "                centrality_col = nx.core_number(dGcol)\n",
    "            elif centrality_col_par == \"closeness_centrality\" or centrality_col_par==\"closeness_centrality_directed\":\n",
    "                centrality_col = nx.closeness_centrality(dGcol)\n",
    "            elif centrality_col_par == \"closeness_centrality_weighted\":\n",
    "                centrality_col = nx.closeness_centrality(dGcol)\n",
    "            elif centrality_col_par == \"communicability_centrality\":\n",
    "                centrality_col = nx.communicability_centrality(dGcol)\n",
    "\n",
    "            centr_sum = sum(centrality_col.values())\n",
    "            for k,g in enumerate(dGcol.nodes()):\n",
    "                if centrality_col[g]!=0:\n",
    "                    if idf_par==\"icw\" or idf_par==\"tf-icw\" or idf_par==\"icw+idf\":\n",
    "                        icw_col[g] = math.log10(float(centr_sum)/centrality_col[g])\n",
    "                else:\n",
    "                    icw_col[g] = 0\n",
    "\n",
    "        # elif idf_par==\"idf\":\n",
    "        idf_col = {}\n",
    "        for x in term_num_docs:\n",
    "            if idf_par==\"idf\":\n",
    "                idf_col[x] = math.log10((float(num_documents)+1.0) / term_num_docs[x])\n",
    "            elif idf_par==\"icw+idf\":\n",
    "                idf_col[x] = math.log10((float(num_documents)+1.0) / term_num_docs[x])\n",
    "\n",
    "        dGcol_nodes = dGcol.nodes()\n",
    "\n",
    "    # for the testing set\n",
    "    else:\n",
    "\n",
    "        if idf_par==\"idf\":\n",
    "            idf_col = idf_learned\n",
    "        elif idf_par==\"icw\" or idf_par==\"tf-icw\":\n",
    "            icw_col = icw_learned\n",
    "        elif idf_par==\"icw+idf\":\n",
    "            idf_col = idf_learned\n",
    "            icw_col = icw_learned\n",
    "\n",
    "        collection_count_nodes = 0\n",
    "        collection_count_edges = 0\n",
    "\n",
    "    # nx.write_edgelist(dGcol,\"test.edgelist\",data=True,delimiter=\"\\t\")\n",
    "\n",
    "    print \"Creating the graph of words for each document...\"\n",
    "    totalNodes = 0\n",
    "    totalEdges = 0\n",
    "\n",
    "    corrs_per_category = [[] for i in range(4)]\n",
    "\n",
    "    for i in range( 0,num_documents ):\n",
    "\n",
    "        if centrality_par==\"pagerank_centrality\" or centrality_par==\"in_degree_centrality\" or centrality_par==\"out_degree_centrality\" or centrality_par==\"closeness_centrality_directed\" or centrality_par==\"betweenness_centrality_directed\":\n",
    "            dG = nx.DiGraph()\n",
    "        else:\n",
    "            dG = nx.Graph()\n",
    "\n",
    "        wordList1 = clean_train_documents[i].split(None)\n",
    "        wordList2 = [string.rstrip(x.lower(), ',.!?;') for x in wordList1]\n",
    "        docLen = len(wordList2)\n",
    "\n",
    "        if len(wordList2)>1:\n",
    "            for k, word in enumerate(wordList2):\n",
    "                for j in xrange(1,sliding_window):\n",
    "                    try:\n",
    "                        next_word = wordList2[k + j]\n",
    "                        \n",
    "                        if not dG.has_node(word):\n",
    "                            dG.add_node(word)\n",
    "                            dG.node[word]['count'] = 1\n",
    "                        else:\n",
    "                            dG.node[word]['count'] += 1\n",
    "\n",
    "                        if not dG.has_node(next_word):\n",
    "                            dG.add_node(next_word)\n",
    "                            dG.node[next_word]['count'] = 1\n",
    "\n",
    "                        if not dG.has_edge(word, next_word):\n",
    "                            dG.add_edge(word, next_word, weight = 1)\n",
    "                        else:\n",
    "                            dG.edge[word][next_word]['weight'] += 1\n",
    "                    except IndexError:\n",
    "                        if not dG.has_node(word):\n",
    "                            dG.add_node(word)\n",
    "                            dG.node[word]['count'] = 1\n",
    "                        else:\n",
    "                            dG.node[word]['count'] += 1\n",
    "                    except:\n",
    "                        raise\n",
    "\n",
    "            dG.remove_edges_from(dG.selfloop_edges())\n",
    "            for node1, node2 in dG.edges_iter():\n",
    "                dG.edge[node1][node2]['inv_weight'] = 1.0 / dG.edge[node1][node2]['weight']\n",
    "\n",
    "            if train_par:\n",
    "                if(kcore_par==\"B1\" or kcore_par==\"B2\"):\n",
    "                    max_core_doc = []\n",
    "                    document_core = nx.core_number(dG)\n",
    "                    max_core = max(document_core.values())\n",
    "                    # print \"Max core of document:\"+str(max_core)\n",
    "                    # core_Size_Distribution(document_core)\n",
    "                    for k,g in enumerate(dG.nodes()):\n",
    "                        if kcore_par==\"B1\":\n",
    "                            # B1 method: remove features and then rank\n",
    "                            for x in range(0,kcore_par_int):\n",
    "                                if document_core[g]==max_core-x:\n",
    "                                    dG.remove_node(g)\n",
    "                        else:\n",
    "                            # B2 method: rank first and then remove features\n",
    "                            for x in range(0,kcore_par_int):\n",
    "                                if document_core[g]==max_core-x:\n",
    "                                    max_core_doc.append(g)\n",
    "                                    if g not in max_core_feat:\n",
    "                                        max_core_feat.append(g)\n",
    "            \n",
    "            # centrality = nx.degree_centrality(dG)\n",
    "            #centrality = nx.core_number(dG)\n",
    "            if centrality_par == \"degree_centrality\":\n",
    "                centrality = nx.degree_centrality(dG)\n",
    "            elif centrality_par == \"in_degree_centrality\":\n",
    "                centrality = nx.in_degree_centrality(dG)\n",
    "            elif centrality_par == \"out_degree_centrality\":\n",
    "                centrality = nx.out_degree_centrality(dG)\n",
    "            elif centrality_par == \"pagerank_centrality\":\n",
    "                # centrality = pg.pagerank(dG,max_iter=1000)\n",
    "                centrality = nx.pagerank(dG)\n",
    "            elif centrality_par ==\"betweenness_centrality\" or centrality_par==\"betweenness_centrality_directed\":\n",
    "                centrality = nx.betweenness_centrality(dG,weight=\"weight\")\n",
    "            elif centrality_par ==\"triangles\":\n",
    "                centrality = nx.triangles(dG)\n",
    "            elif centrality_par ==\"eigenvector_centrality\":\n",
    "                centrality = nx.eigenvector_centrality_numpy(dG)\n",
    "            elif centrality_par ==\"core_number\":\n",
    "                centrality = nx.core_number(dG)\n",
    "            elif centrality_par ==\"clustering_coefficient\":\n",
    "                centrality = nx.clustering(dG)\n",
    "            elif centrality_par == \"closeness_centrality\" or centrality_par==\"closeness_centrality_directed\":\n",
    "                centrality = nx.closeness_centrality(dG)\n",
    "            elif centrality_par == \"closeness_centrality_weighted\":\n",
    "                centrality = nx.closeness_centrality(dG,distance='weight')\n",
    "            elif centrality_par == \"communicability_centrality\":\n",
    "                centrality = nx.communicability_centrality(dG)\n",
    "            elif centrality_par == \"closeness_centrality_not_normalized\":\n",
    "                centrality = nx.closeness_centrality(dG,normalized=False)\n",
    "            elif centrality_par == \"degree_centrality_weighted\":\n",
    "                centrality = weighted_degree_centrality(dG)\n",
    "            #print \"Number of self-loops:\"+str(dG.number_of_selfloops())\n",
    "            #centrality = nx.out_degree_centrality(dG)\n",
    "            #centrality = pg.pagerank(dG,max_iter=1000)\n",
    "            #centrality = nx.katz_centrality(dG,max_iter=10000)\n",
    "\n",
    "            totalNodes += dG.number_of_nodes()\n",
    "            totalEdges += dG.number_of_edges()\n",
    "\n",
    "            tfs = []\n",
    "            centralities = []\n",
    "            centr_sum_doc = sum(centrality.values())\n",
    "\n",
    "            for k, g in enumerate(dG.nodes()):\n",
    "                if g in dGcol_nodes:\n",
    "                    if kcore_par==\"B2\":\n",
    "                        if g in max_core_feat:\n",
    "                            # Degree centrality (local feature)\n",
    "                            if g in unique_words:\n",
    "                                #features[i,unique_words.index(g)] = dG.degree(nbunch=g,weight='weight') * idf_col[g]\n",
    "                                if idf_par==\"no\":\n",
    "                                    features[i,unique_words.index(g)] = centrality[g]/(1-b+(b*(float(docLen)/avgLen)))\n",
    "                                elif idf_par==\"idf\":\n",
    "                                    features[i,unique_words.index(g)] = (centrality[g]/(1-b+(b*(float(docLen)/avgLen)))) * idf_col[g]\n",
    "                                    # features[i,unique_words.index(g)] = centrality[g] * idf_col[g]\n",
    "                                elif idf_par==\"icw\":\n",
    "                                    features[i,unique_words.index(g)] = (centrality[g]/(1-b+(b*(float(docLen)/avgLen)))) * icw_col[g]\n",
    "                                    # features[i,unique_words.index(g)] = centrality[g] * icw_col[g]\n",
    "                                elif idf_par==\"icw+idf\":\n",
    "                                    features[i,unique_words.index(g)] = (centrality[g]/(1-b+(b*(float(docLen)/avgLen)))) * icw_col[g] * idf_col[g]\n",
    "                                    # features[i,unique_words.index(g)] = centrality[g] * math.log10(icw_col[g] * idf_col[g])\n",
    "\n",
    "                            elif g in bigrams:\n",
    "                                #features[i,unique_words.index(g)] = dG.degree(nbunch=g,weight='weight') * idf_col[g]\n",
    "                                if idf_par==\"no\":\n",
    "                                    features[i,unique_words_len+bigrams.index(g)] = centrality[g]/(1-b+(b*(float(docLen)/avgLen)))\n",
    "                                elif idf_par==\"idf\":\n",
    "                                    features[i,unique_words_len+bigrams.index(g)] = (centrality[g]/(1-b+(b*(float(docLen)/avgLen)))) * idf_col[g]\n",
    "                                    # features[i,unique_words.index(g)] = centrality[g] * idf_col[g]\n",
    "                                elif idf_par==\"icw\":\n",
    "                                    features[i,unique_words_len+bigrams.index(g)] = (centrality[g]/(1-b+(b*(float(docLen)/avgLen)))) * icw_col[g]\n",
    "                                    # features[i,unique_words.index(g)] = centrality[g] * icw_col[g]\n",
    "                                elif idf_par==\"icw+idf\":\n",
    "                                    features[i,unique_words_len+bigrams.index(g)] = (centrality[g]/(1-b+(b*(float(docLen)/avgLen)))) * icw_col[g] * idf_col[g]\n",
    "                                    # features[i,unique_words.index(g)] = centrality[g] * math.log10(icw_col[g] * idf_col[g])\n",
    "                    else:\n",
    "                        if g in unique_words:\n",
    "                            #features[i,unique_words.index(g)] = dG.degree(nbunch=g,weight='weight') * idf_col[g]\n",
    "                            if idf_par==\"no\":\n",
    "                                features[i,unique_words.index(g)] = centrality[g]/(1-b+(b*(float(docLen)/avgLen)))\n",
    "                                tfs.append(wordList2.count(g))\n",
    "                                centralities.append(centrality[g])\n",
    "                            elif idf_par==\"tf-icw\":\n",
    "                                tf_g = 1+math.log(1+math.log(wordList2.count(g)))\n",
    "                                features[i,unique_words.index(g)] = (tf_g/(1-b+(b*(float(docLen)/avgLen)))) * icw_col[g]\n",
    "                            elif idf_par==\"idf\":\n",
    "                                features[i,unique_words.index(g)] = (centrality[g]/(1-b+(b*(float(docLen)/avgLen)))) * idf_col[g]\n",
    "                                # features[i,unique_words.index(g)] = centrality[g] * idf_col[g]\n",
    "                            elif idf_par==\"icw\":\n",
    "                                features[i,unique_words.index(g)] = (centrality[g]/(1-b+(b*(float(docLen)/avgLen)))) * icw_col[g]\n",
    "                                # features[i,unique_words.index(g)] = centrality[g] * icw_col[g]\n",
    "                            elif idf_par==\"icw+idf\":\n",
    "                                features[i,unique_words.index(g)] = (centrality[g]/(1-b+(b*(float(docLen)/avgLen)))) * icw_col[g] * idf_col[g]\n",
    "                                # features[i,unique_words.index(g)] = centrality[g] * math.log10(icw_col[g] * idf_col[g])\n",
    "\n",
    "                        elif g in bigrams:\n",
    "                            #features[i,unique_words.index(g)] = dG.degree(nbunch=g,weight='weight') * idf_col[g]\n",
    "                            if idf_par==\"no\":\n",
    "                                features[i,unique_words_len+bigrams.index(g)] = centrality[g]/(1-b+(b*(float(docLen)/avgLen)))\n",
    "                            elif idf_par==\"idf\":\n",
    "                                features[i,unique_words_len+bigrams.index(g)] = (centrality[g]/(1-b+(b*(float(docLen)/avgLen)))) * idf_col[g]\n",
    "                                # features[i,unique_words.index(g)] = centrality[g] * idf_col[g]\n",
    "                            elif idf_par==\"icw\":\n",
    "                                features[i,unique_words_len+bigrams.index(g)] = (centrality[g]/(1-b+(b*(float(docLen)/avgLen)))) * icw_col[g]\n",
    "                                # features[i,unique_words.index(g)] = centrality[g] * icw_col[g]\n",
    "                            elif idf_par==\"icw+idf\":\n",
    "                                features[i,unique_words_len+bigrams.index(g)] = (centrality[g]/(1-b+(b*(float(docLen)/avgLen)))) * icw_col[g] * idf_col[g]\n",
    "                                # features[i,unique_words.index(g)] = centrality[g] * math.log10(icw_col[g] * idf_col[g])\n",
    "    #     if train_par:\n",
    "    #         # pears = pearsonr(tfs,centralities)\n",
    "\n",
    "    #         ind_tfs = sorted(range(len(tfs)), key=lambda k: tfs[k])[-20:]\n",
    "    #         ind_centr = sorted(range(len(centralities)), key=lambda k: centralities[k])[-20:]\n",
    "    #         tau, p_value = kendalltau([unique_words[k] for k in ind_tfs],[unique_words[k] for k in ind_centr])\n",
    "            \n",
    "    #         corrs_per_category[int(y[i])-1].append(tau)\n",
    "    \n",
    "    # if train_par:\n",
    "\n",
    "    #     text_file = open(\"kendal_tfs_tws_output_tw_idf_\"+idf_par+\"_centr_\"+centrality_par+\"_sliding_\"+str(sliding_window)+\"_kcore_\"+kcore_par+\".txt\", \"w\")\n",
    "        \n",
    "    #     text_file.write(str(corrs_per_category))\n",
    "    #     text_file.close()\n",
    "\n",
    "    #     fig = plt.figure()\n",
    "    #     ax = fig.add_subplot(111)\n",
    "\n",
    "    #     ax.boxplot(corrs_per_category[:])\n",
    "\n",
    "    #     plt.show()\n",
    "\n",
    "\n",
    "    if idf_par==\"no\":\n",
    "        idfs = {}\n",
    "        icws = {}\n",
    "    if idf_par==\"idf\":\n",
    "        idfs = idf_col\n",
    "        icws = {}\n",
    "    elif idf_par==\"icw\" or idf_par==\"tf-icw\":\n",
    "        idfs = {}\n",
    "        icws = icw_col\n",
    "    elif idf_par==\"icw+idf\":\n",
    "        idfs = idf_col\n",
    "        icws = icw_col\n",
    "\n",
    "    if train_par:\n",
    "        if kcore_par==\"B2\":\n",
    "            feature_reduction = float(len(max_core_feat))/len(dGcol_nodes)\n",
    "            print \"Percentage of features kept:\"+str(feature_reduction)\n",
    "        print \"Average number of nodes:\"+str(float(totalNodes)/num_documents)\n",
    "        print \"Average number of edges:\"+str(float(totalEdges)/num_documents)\n",
    "    \n",
    "    return features, idfs,icws,collection_count_nodes, collection_count_edges, dGcol_nodes,max_core_col,feature_reduction, max_core_feat,avgLen"
   ]
  },
  {
   "cell_type": "code",
   "execution_count": 14,
   "metadata": {
    "collapsed": false
   },
   "outputs": [],
   "source": [
    "X_train, X_test, y_train, y_test = train_test_split(reviews[\"review_stemmed\"], reviews[\"Target\"], test_size=0.4, random_state=0)"
   ]
  },
  {
   "cell_type": "code",
   "execution_count": 16,
   "metadata": {
    "collapsed": false,
    "scrolled": true
   },
   "outputs": [
    {
     "data": {
      "text/plain": [
       "13373    corpse killer 3do jeu tir deroulant comme film...\n",
       "4056     c pink floyd ! ca suffit savoir qu'il l'album ...\n",
       "29862    belle alure tre belle fourche couleur belle co...\n",
       "7221     tres bon produit,surtout debut l'allaitement.l...\n",
       "28123    trees bon telephone enormement d'option tres d...\n",
       "Name: review_stemmed, dtype: object"
      ]
     },
     "execution_count": 16,
     "metadata": {},
     "output_type": "execute_result"
    }
   ],
   "source": [
    "X_train.head()"
   ]
  },
  {
   "cell_type": "code",
   "execution_count": 17,
   "metadata": {
    "collapsed": false
   },
   "outputs": [],
   "source": [
    "N=3000\n",
    "clean_train_documents = list(X_train)[:N]\n",
    "num_documents=len(clean_train_documents)\n",
    "unique_words = list(set((\" \".join(clean_train_documents).split())))\n",
    "bigrams = []\n",
    "sliding_window=2\n",
    "b = 0.03\n",
    "idf_par = \"idf\"\n",
    "centrality_par = \"betweenness_centrality_directed\"\n",
    "centrality_col_par=centrality_par\n",
    "idfs = {}\n",
    "icws = {}\n",
    "kcore_par = \"A0\"\n",
    "dGcol_nodes = {}\n",
    "max_core_col = []\n",
    "kcore_par_int = 1\n",
    "max_core_feat = []\n",
    "feature_reduction = 0.0\n",
    "avgLen = 0.0"
   ]
  },
  {
   "cell_type": "code",
   "execution_count": 18,
   "metadata": {
    "collapsed": false,
    "scrolled": false
   },
   "outputs": [
    {
     "name": "stdout",
     "output_type": "stream",
     "text": [
      "sliding_window:2\n",
      "Training set...\n",
      "Creating the graph of words for collection...\n",
      "Number of self-loops for collection graph:37\n",
      "Number of nodes in collection graph:14504\n",
      "Number of edges in collection graph:46037\n",
      "Average document length:19.6166666667\n",
      "Creating the graph of words for each document...\n",
      "Average number of nodes:18.0953333333\n",
      "Average number of edges:18.4336666667\n"
     ]
    }
   ],
   "source": [
    "features, idfs_learned,icws_learned,collection_count_nodes, collection_count_edges, dGcol_nodes,max_core_col,feature_reduction, max_core_feat,avgLen = createGraphFeatures(num_documents,clean_train_documents,unique_words,bigrams,sliding_window,b,idf_par,centrality_par,centrality_col_par,True,idfs,icws,kcore_par,dGcol_nodes,max_core_col,kcore_par_int,max_core_feat,feature_reduction,avgLen)"
   ]
  },
  {
   "cell_type": "code",
   "execution_count": 19,
   "metadata": {
    "collapsed": false
   },
   "outputs": [
    {
     "data": {
      "text/plain": [
       "(3000, 17616)"
      ]
     },
     "execution_count": 19,
     "metadata": {},
     "output_type": "execute_result"
    }
   ],
   "source": [
    "features.shape"
   ]
  },
  {
   "cell_type": "markdown",
   "metadata": {},
   "source": [
    "### Entrainement et test des modèles"
   ]
  },
  {
   "cell_type": "code",
   "execution_count": 20,
   "metadata": {
    "collapsed": false
   },
   "outputs": [
    {
     "name": "stdout",
     "output_type": "stream",
     "text": [
      "sliding_window:2\n",
      "Creating the graph of words for each document...\n"
     ]
    }
   ],
   "source": [
    "N_test=500\n",
    "clean_test_documents = list(X_test[:N_test])\n",
    "num_test_documents=len(clean_test_documents)\n",
    "test_features,idfs,icws,collection_count_nodes, collection_count_edges, dGcol_nodes,max_core_col,feature_reduction, max_core_feat,avgLen = createGraphFeatures(num_test_documents,clean_test_documents,unique_words,bigrams,sliding_window,b,idf_par,centrality_par,centrality_col_par,False,idfs_learned,icws_learned,kcore_par,dGcol_nodes,max_core_col,kcore_par_int,max_core_feat,feature_reduction,avgLen)"
   ]
  },
  {
   "cell_type": "markdown",
   "metadata": {},
   "source": [
    "#### a. Random Forest"
   ]
  },
  {
   "cell_type": "code",
   "execution_count": 22,
   "metadata": {
    "collapsed": false
   },
   "outputs": [],
   "source": [
    "from sklearn.ensemble import RandomForestClassifier\n",
    "clf_2 = RandomForestClassifier(n_estimators = 500) \n",
    "\n",
    "forest_2 = clf_2.fit( features, y_train [:N])\n",
    "#pred_train = forest.predict(features)"
   ]
  },
  {
   "cell_type": "code",
   "execution_count": 23,
   "metadata": {
    "collapsed": false
   },
   "outputs": [
    {
     "data": {
      "text/plain": [
       "0.59799999999999998"
      ]
     },
     "execution_count": 23,
     "metadata": {},
     "output_type": "execute_result"
    }
   ],
   "source": [
    "forest_2.score(test_features, y_test[:N_test]) "
   ]
  },
  {
   "cell_type": "code",
   "execution_count": 24,
   "metadata": {
    "collapsed": false,
    "scrolled": true
   },
   "outputs": [
    {
     "data": {
      "image/png": "[encoded data removed]",
      "text/plain": [
       "<matplotlib.figure.Figure at 0x13ce37c10>"
      ]
     },
     "metadata": {},
     "output_type": "display_data"
    }
   ],
   "source": [
    "importances_2 = forest_2.feature_importances_\n",
    "\n",
    "import matplotlib.pyplot as plt\n",
    "plt.plot(importances_2)\n",
    "plt.show()\n"
   ]
  },
  {
   "cell_type": "markdown",
   "metadata": {},
   "source": [
    "Les mots les plus important dans les arbres de décision"
   ]
  },
  {
   "cell_type": "code",
   "execution_count": 25,
   "metadata": {
    "collapsed": false,
    "scrolled": false
   },
   "outputs": [
    {
     "data": {
      "text/plain": [
       "u'tres'"
      ]
     },
     "execution_count": 25,
     "metadata": {},
     "output_type": "execute_result"
    }
   ],
   "source": [
    "unique_words[list(importances_2).index(max(importances_2))]"
   ]
  },
  {
   "cell_type": "code",
   "execution_count": 31,
   "metadata": {
    "collapsed": false
   },
   "outputs": [
    {
     "data": {
      "text/plain": [
       "u'bon'"
      ]
     },
     "execution_count": 31,
     "metadata": {},
     "output_type": "execute_result"
    }
   ],
   "source": [
    "l=list(importances_2)\n",
    "\n",
    "l[list(importances_2).index(max(importances_2))]=0\n",
    "\n",
    "unique_words[l.index(max(l))]"
   ]
  },
  {
   "cell_type": "code",
   "execution_count": 32,
   "metadata": {
    "collapsed": false
   },
   "outputs": [
    {
     "data": {
      "text/plain": [
       "u'qualite'"
      ]
     },
     "execution_count": 32,
     "metadata": {},
     "output_type": "execute_result"
    }
   ],
   "source": [
    "l2=l\n",
    "\n",
    "l2[l.index(max(l))]=0\n",
    "\n",
    "unique_words[l2.index(max(l2))]"
   ]
  },
  {
   "cell_type": "markdown",
   "metadata": {},
   "source": [
    "#### b.  Gradient Boosting Classifier"
   ]
  },
  {
   "cell_type": "code",
   "execution_count": 34,
   "metadata": {
    "collapsed": false
   },
   "outputs": [],
   "source": [
    "from sklearn.ensemble import GradientBoostingClassifier\n",
    "GB2 = GradientBoostingClassifier(n_estimators = 500) \n",
    "\n",
    "GBM2 = GB2.fit( features, y_train [:N])"
   ]
  },
  {
   "cell_type": "code",
   "execution_count": 35,
   "metadata": {
    "collapsed": false
   },
   "outputs": [
    {
     "data": {
      "text/plain": [
       "0.55200000000000005"
      ]
     },
     "execution_count": 35,
     "metadata": {},
     "output_type": "execute_result"
    }
   ],
   "source": [
    "GBM2.score(test_features, y_test[:N_test]) "
   ]
  },
  {
   "cell_type": "markdown",
   "metadata": {},
   "source": [
    "### Modèles hybrides"
   ]
  },
  {
   "cell_type": "code",
   "execution_count": 16,
   "metadata": {
    "collapsed": true
   },
   "outputs": [],
   "source": [
    "X_train1, X_test1, y_train1, y_test1 = train_test_split(reviews[[\"review_stemmed\",\"review_neg\",\"review_Lexicon_score\",\"review_length\"]], reviews[\"Target\"], test_size=0.4, random_state=0)"
   ]
  },
  {
   "cell_type": "code",
   "execution_count": 17,
   "metadata": {
    "collapsed": false
   },
   "outputs": [],
   "source": [
    "N=3000\n",
    "clean_train_documents = list(X_train1[\"review_stemmed\"])[:N]\n",
    "num_documents=len(clean_train_documents)\n",
    "unique_words = list(set((\" \".join(clean_train_documents).split())))\n",
    "bigrams = []\n",
    "sliding_window=2\n",
    "b = 0.03\n",
    "idf_par = \"idf\"\n",
    "centrality_par = \"betweenness_centrality_directed\"\n",
    "centrality_col_par=centrality_par\n",
    "idfs = {}\n",
    "icws = {}\n",
    "kcore_par = \"A0\"\n",
    "dGcol_nodes = {}\n",
    "max_core_col = []\n",
    "kcore_par_int = 1\n",
    "max_core_feat = []\n",
    "feature_reduction = 0.0\n",
    "avgLen = 0.0"
   ]
  },
  {
   "cell_type": "code",
   "execution_count": 18,
   "metadata": {
    "collapsed": false,
    "scrolled": false
   },
   "outputs": [
    {
     "name": "stdout",
     "output_type": "stream",
     "text": [
      "sliding_window:2\n",
      "Training set...\n",
      "Creating the graph of words for collection...\n",
      "Number of self-loops for collection graph:37\n",
      "Number of nodes in collection graph:14504\n",
      "Number of edges in collection graph:46037\n",
      "Average document length:19.6166666667\n",
      "Creating the graph of words for each document...\n",
      "Average number of nodes:18.0953333333\n",
      "Average number of edges:18.4336666667\n"
     ]
    }
   ],
   "source": [
    "features, idfs_learned,icws_learned,collection_count_nodes, collection_count_edges, dGcol_nodes,max_core_col,feature_reduction, max_core_feat,avgLen = createGraphFeatures(num_documents,clean_train_documents,unique_words,bigrams,sliding_window,b,idf_par,centrality_par,centrality_col_par,True,idfs,icws,kcore_par,dGcol_nodes,max_core_col,kcore_par_int,max_core_feat,feature_reduction,avgLen)"
   ]
  },
  {
   "cell_type": "code",
   "execution_count": 24,
   "metadata": {
    "collapsed": true
   },
   "outputs": [],
   "source": [
    "df=X_train1[[\"review_neg\",\"review_Lexicon_score\",\"review_length\"]][:N]\n",
    "\n",
    "df1=pd.DataFrame(features, columns=unique_words, index=df.index)\n",
    "\n",
    "X_train_DF=pd.concat([df, df1], axis=1)"
   ]
  },
  {
   "cell_type": "code",
   "execution_count": 35,
   "metadata": {
    "collapsed": false,
    "scrolled": true
   },
   "outputs": [
    {
     "data": {
      "text/html": [
       "<div>\n",
       "<table border=\"1\" class=\"dataframe\">\n",
       "  <thead>\n",
       "    <tr style=\"text-align: right;\">\n",
       "      <th></th>\n",
       "      <th>review_neg</th>\n",
       "      <th>review_Lexicon_score</th>\n",
       "      <th>review_length</th>\n",
       "      <th>....bien</th>\n",
       "      <th>contresens</th>\n",
       "      <th>miel,</th>\n",
       "      <th>equipe....</th>\n",
       "      <th>rennais</th>\n",
       "      <th>four</th>\n",
       "      <th>fous</th>\n",
       "      <th>...</th>\n",
       "      <th>moderation</th>\n",
       "      <th>epousent</th>\n",
       "      <th>35ml</th>\n",
       "      <th>experient</th>\n",
       "      <th>volumes</th>\n",
       "      <th>plaignent</th>\n",
       "      <th>tonnes</th>\n",
       "      <th>l'autofocus</th>\n",
       "      <th>prochaine</th>\n",
       "      <th>decalques.</th>\n",
       "    </tr>\n",
       "  </thead>\n",
       "  <tbody>\n",
       "    <tr>\n",
       "      <th>13373</th>\n",
       "      <td>0</td>\n",
       "      <td>4.0</td>\n",
       "      <td>275</td>\n",
       "      <td>0.0</td>\n",
       "      <td>0.0</td>\n",
       "      <td>0.0</td>\n",
       "      <td>0.0</td>\n",
       "      <td>0.0</td>\n",
       "      <td>0.0</td>\n",
       "      <td>0.0</td>\n",
       "      <td>...</td>\n",
       "      <td>0.0</td>\n",
       "      <td>0.0</td>\n",
       "      <td>0.0</td>\n",
       "      <td>0.0</td>\n",
       "      <td>0.0</td>\n",
       "      <td>0.0</td>\n",
       "      <td>0.0</td>\n",
       "      <td>0.0</td>\n",
       "      <td>0.0</td>\n",
       "      <td>0.0</td>\n",
       "    </tr>\n",
       "    <tr>\n",
       "      <th>4056</th>\n",
       "      <td>0</td>\n",
       "      <td>0.0</td>\n",
       "      <td>65</td>\n",
       "      <td>0.0</td>\n",
       "      <td>0.0</td>\n",
       "      <td>0.0</td>\n",
       "      <td>0.0</td>\n",
       "      <td>0.0</td>\n",
       "      <td>0.0</td>\n",
       "      <td>0.0</td>\n",
       "      <td>...</td>\n",
       "      <td>0.0</td>\n",
       "      <td>0.0</td>\n",
       "      <td>0.0</td>\n",
       "      <td>0.0</td>\n",
       "      <td>0.0</td>\n",
       "      <td>0.0</td>\n",
       "      <td>0.0</td>\n",
       "      <td>0.0</td>\n",
       "      <td>0.0</td>\n",
       "      <td>0.0</td>\n",
       "    </tr>\n",
       "    <tr>\n",
       "      <th>29862</th>\n",
       "      <td>0</td>\n",
       "      <td>3.0</td>\n",
       "      <td>276</td>\n",
       "      <td>0.0</td>\n",
       "      <td>0.0</td>\n",
       "      <td>0.0</td>\n",
       "      <td>0.0</td>\n",
       "      <td>0.0</td>\n",
       "      <td>0.0</td>\n",
       "      <td>0.0</td>\n",
       "      <td>...</td>\n",
       "      <td>0.0</td>\n",
       "      <td>0.0</td>\n",
       "      <td>0.0</td>\n",
       "      <td>0.0</td>\n",
       "      <td>0.0</td>\n",
       "      <td>0.0</td>\n",
       "      <td>0.0</td>\n",
       "      <td>0.0</td>\n",
       "      <td>0.0</td>\n",
       "      <td>0.0</td>\n",
       "    </tr>\n",
       "    <tr>\n",
       "      <th>7221</th>\n",
       "      <td>1</td>\n",
       "      <td>8.0</td>\n",
       "      <td>134</td>\n",
       "      <td>0.0</td>\n",
       "      <td>0.0</td>\n",
       "      <td>0.0</td>\n",
       "      <td>0.0</td>\n",
       "      <td>0.0</td>\n",
       "      <td>0.0</td>\n",
       "      <td>0.0</td>\n",
       "      <td>...</td>\n",
       "      <td>0.0</td>\n",
       "      <td>0.0</td>\n",
       "      <td>0.0</td>\n",
       "      <td>0.0</td>\n",
       "      <td>0.0</td>\n",
       "      <td>0.0</td>\n",
       "      <td>0.0</td>\n",
       "      <td>0.0</td>\n",
       "      <td>0.0</td>\n",
       "      <td>0.0</td>\n",
       "    </tr>\n",
       "    <tr>\n",
       "      <th>28123</th>\n",
       "      <td>0</td>\n",
       "      <td>8.0</td>\n",
       "      <td>52</td>\n",
       "      <td>0.0</td>\n",
       "      <td>0.0</td>\n",
       "      <td>0.0</td>\n",
       "      <td>0.0</td>\n",
       "      <td>0.0</td>\n",
       "      <td>0.0</td>\n",
       "      <td>0.0</td>\n",
       "      <td>...</td>\n",
       "      <td>0.0</td>\n",
       "      <td>0.0</td>\n",
       "      <td>0.0</td>\n",
       "      <td>0.0</td>\n",
       "      <td>0.0</td>\n",
       "      <td>0.0</td>\n",
       "      <td>0.0</td>\n",
       "      <td>0.0</td>\n",
       "      <td>0.0</td>\n",
       "      <td>0.0</td>\n",
       "    </tr>\n",
       "  </tbody>\n",
       "</table>\n",
       "<p>5 rows × 17619 columns</p>\n",
       "</div>"
      ],
      "text/plain": [
       "       review_neg  review_Lexicon_score  review_length  ....bien  contresens  \\\n",
       "13373           0                   4.0            275       0.0         0.0   \n",
       "4056            0                   0.0             65       0.0         0.0   \n",
       "29862           0                   3.0            276       0.0         0.0   \n",
       "7221            1                   8.0            134       0.0         0.0   \n",
       "28123           0                   8.0             52       0.0         0.0   \n",
       "\n",
       "       miel,  equipe....  rennais  four  fous     ...      moderation  \\\n",
       "13373    0.0         0.0      0.0   0.0   0.0     ...             0.0   \n",
       "4056     0.0         0.0      0.0   0.0   0.0     ...             0.0   \n",
       "29862    0.0         0.0      0.0   0.0   0.0     ...             0.0   \n",
       "7221     0.0         0.0      0.0   0.0   0.0     ...             0.0   \n",
       "28123    0.0         0.0      0.0   0.0   0.0     ...             0.0   \n",
       "\n",
       "       epousent  35ml  experient  volumes  plaignent  tonnes  l'autofocus  \\\n",
       "13373       0.0   0.0        0.0      0.0        0.0     0.0          0.0   \n",
       "4056        0.0   0.0        0.0      0.0        0.0     0.0          0.0   \n",
       "29862       0.0   0.0        0.0      0.0        0.0     0.0          0.0   \n",
       "7221        0.0   0.0        0.0      0.0        0.0     0.0          0.0   \n",
       "28123       0.0   0.0        0.0      0.0        0.0     0.0          0.0   \n",
       "\n",
       "       prochaine  decalques.  \n",
       "13373        0.0         0.0  \n",
       "4056         0.0         0.0  \n",
       "29862        0.0         0.0  \n",
       "7221         0.0         0.0  \n",
       "28123        0.0         0.0  \n",
       "\n",
       "[5 rows x 17619 columns]"
      ]
     },
     "execution_count": 35,
     "metadata": {},
     "output_type": "execute_result"
    }
   ],
   "source": [
    "X_train_DF.head()"
   ]
  },
  {
   "cell_type": "code",
   "execution_count": 44,
   "metadata": {
    "collapsed": false
   },
   "outputs": [
    {
     "name": "stdout",
     "output_type": "stream",
     "text": [
      "sliding_window:2\n",
      "Creating the graph of words for each document...\n"
     ]
    }
   ],
   "source": [
    "N_test=500\n",
    "clean_test_documents = list(X_test1[\"review_stemmed\"])[:N_test]\n",
    "num_test_documents=len(clean_test_documents)\n",
    "test_features2,idfs,icws,collection_count_nodes, collection_count_edges, dGcol_nodes,max_core_col,feature_reduction, max_core_feat,avgLen = createGraphFeatures(num_test_documents,clean_test_documents,unique_words,bigrams,sliding_window,b,idf_par,centrality_par,centrality_col_par,False,idfs_learned,icws_learned,kcore_par,dGcol_nodes,max_core_col,kcore_par_int,max_core_feat,feature_reduction,avgLen)"
   ]
  },
  {
   "cell_type": "code",
   "execution_count": 47,
   "metadata": {
    "collapsed": false,
    "scrolled": true
   },
   "outputs": [
    {
     "data": {
      "text/html": [
       "<div>\n",
       "<table border=\"1\" class=\"dataframe\">\n",
       "  <thead>\n",
       "    <tr style=\"text-align: right;\">\n",
       "      <th></th>\n",
       "      <th>review_neg</th>\n",
       "      <th>review_Lexicon_score</th>\n",
       "      <th>review_length</th>\n",
       "      <th>....bien</th>\n",
       "      <th>contresens</th>\n",
       "      <th>miel,</th>\n",
       "      <th>equipe....</th>\n",
       "      <th>rennais</th>\n",
       "      <th>four</th>\n",
       "      <th>fous</th>\n",
       "      <th>...</th>\n",
       "      <th>moderation</th>\n",
       "      <th>epousent</th>\n",
       "      <th>35ml</th>\n",
       "      <th>experient</th>\n",
       "      <th>volumes</th>\n",
       "      <th>plaignent</th>\n",
       "      <th>tonnes</th>\n",
       "      <th>l'autofocus</th>\n",
       "      <th>prochaine</th>\n",
       "      <th>decalques.</th>\n",
       "    </tr>\n",
       "  </thead>\n",
       "  <tbody>\n",
       "    <tr>\n",
       "      <th>7389</th>\n",
       "      <td>0</td>\n",
       "      <td>0.0</td>\n",
       "      <td>66</td>\n",
       "      <td>0.0</td>\n",
       "      <td>0.0</td>\n",
       "      <td>0.0</td>\n",
       "      <td>0.0</td>\n",
       "      <td>0.0</td>\n",
       "      <td>0.0</td>\n",
       "      <td>0.0</td>\n",
       "      <td>...</td>\n",
       "      <td>0.0</td>\n",
       "      <td>0.0</td>\n",
       "      <td>0.0</td>\n",
       "      <td>0.0</td>\n",
       "      <td>0.0</td>\n",
       "      <td>0.0</td>\n",
       "      <td>0.0</td>\n",
       "      <td>0.0</td>\n",
       "      <td>0.0</td>\n",
       "      <td>0.0</td>\n",
       "    </tr>\n",
       "    <tr>\n",
       "      <th>3509</th>\n",
       "      <td>0</td>\n",
       "      <td>3.0</td>\n",
       "      <td>268</td>\n",
       "      <td>0.0</td>\n",
       "      <td>0.0</td>\n",
       "      <td>0.0</td>\n",
       "      <td>0.0</td>\n",
       "      <td>0.0</td>\n",
       "      <td>0.0</td>\n",
       "      <td>0.0</td>\n",
       "      <td>...</td>\n",
       "      <td>0.0</td>\n",
       "      <td>0.0</td>\n",
       "      <td>0.0</td>\n",
       "      <td>0.0</td>\n",
       "      <td>0.0</td>\n",
       "      <td>0.0</td>\n",
       "      <td>0.0</td>\n",
       "      <td>0.0</td>\n",
       "      <td>0.0</td>\n",
       "      <td>0.0</td>\n",
       "    </tr>\n",
       "    <tr>\n",
       "      <th>30661</th>\n",
       "      <td>0</td>\n",
       "      <td>6.0</td>\n",
       "      <td>39</td>\n",
       "      <td>0.0</td>\n",
       "      <td>0.0</td>\n",
       "      <td>0.0</td>\n",
       "      <td>0.0</td>\n",
       "      <td>0.0</td>\n",
       "      <td>0.0</td>\n",
       "      <td>0.0</td>\n",
       "      <td>...</td>\n",
       "      <td>0.0</td>\n",
       "      <td>0.0</td>\n",
       "      <td>0.0</td>\n",
       "      <td>0.0</td>\n",
       "      <td>0.0</td>\n",
       "      <td>0.0</td>\n",
       "      <td>0.0</td>\n",
       "      <td>0.0</td>\n",
       "      <td>0.0</td>\n",
       "      <td>0.0</td>\n",
       "    </tr>\n",
       "    <tr>\n",
       "      <th>63191</th>\n",
       "      <td>0</td>\n",
       "      <td>0.0</td>\n",
       "      <td>88</td>\n",
       "      <td>0.0</td>\n",
       "      <td>0.0</td>\n",
       "      <td>0.0</td>\n",
       "      <td>0.0</td>\n",
       "      <td>0.0</td>\n",
       "      <td>0.0</td>\n",
       "      <td>0.0</td>\n",
       "      <td>...</td>\n",
       "      <td>0.0</td>\n",
       "      <td>0.0</td>\n",
       "      <td>0.0</td>\n",
       "      <td>0.0</td>\n",
       "      <td>0.0</td>\n",
       "      <td>0.0</td>\n",
       "      <td>0.0</td>\n",
       "      <td>0.0</td>\n",
       "      <td>0.0</td>\n",
       "      <td>0.0</td>\n",
       "    </tr>\n",
       "    <tr>\n",
       "      <th>38241</th>\n",
       "      <td>0</td>\n",
       "      <td>0.0</td>\n",
       "      <td>40</td>\n",
       "      <td>0.0</td>\n",
       "      <td>0.0</td>\n",
       "      <td>0.0</td>\n",
       "      <td>0.0</td>\n",
       "      <td>0.0</td>\n",
       "      <td>0.0</td>\n",
       "      <td>0.0</td>\n",
       "      <td>...</td>\n",
       "      <td>0.0</td>\n",
       "      <td>0.0</td>\n",
       "      <td>0.0</td>\n",
       "      <td>0.0</td>\n",
       "      <td>0.0</td>\n",
       "      <td>0.0</td>\n",
       "      <td>0.0</td>\n",
       "      <td>0.0</td>\n",
       "      <td>0.0</td>\n",
       "      <td>0.0</td>\n",
       "    </tr>\n",
       "  </tbody>\n",
       "</table>\n",
       "<p>5 rows × 17619 columns</p>\n",
       "</div>"
      ],
      "text/plain": [
       "       review_neg  review_Lexicon_score  review_length  ....bien  contresens  \\\n",
       "7389            0                   0.0             66       0.0         0.0   \n",
       "3509            0                   3.0            268       0.0         0.0   \n",
       "30661           0                   6.0             39       0.0         0.0   \n",
       "63191           0                   0.0             88       0.0         0.0   \n",
       "38241           0                   0.0             40       0.0         0.0   \n",
       "\n",
       "       miel,  equipe....  rennais  four  fous     ...      moderation  \\\n",
       "7389     0.0         0.0      0.0   0.0   0.0     ...             0.0   \n",
       "3509     0.0         0.0      0.0   0.0   0.0     ...             0.0   \n",
       "30661    0.0         0.0      0.0   0.0   0.0     ...             0.0   \n",
       "63191    0.0         0.0      0.0   0.0   0.0     ...             0.0   \n",
       "38241    0.0         0.0      0.0   0.0   0.0     ...             0.0   \n",
       "\n",
       "       epousent  35ml  experient  volumes  plaignent  tonnes  l'autofocus  \\\n",
       "7389        0.0   0.0        0.0      0.0        0.0     0.0          0.0   \n",
       "3509        0.0   0.0        0.0      0.0        0.0     0.0          0.0   \n",
       "30661       0.0   0.0        0.0      0.0        0.0     0.0          0.0   \n",
       "63191       0.0   0.0        0.0      0.0        0.0     0.0          0.0   \n",
       "38241       0.0   0.0        0.0      0.0        0.0     0.0          0.0   \n",
       "\n",
       "       prochaine  decalques.  \n",
       "7389         0.0         0.0  \n",
       "3509         0.0         0.0  \n",
       "30661        0.0         0.0  \n",
       "63191        0.0         0.0  \n",
       "38241        0.0         0.0  \n",
       "\n",
       "[5 rows x 17619 columns]"
      ]
     },
     "execution_count": 47,
     "metadata": {},
     "output_type": "execute_result"
    }
   ],
   "source": [
    "df=X_test1[[\"review_neg\",\"review_Lexicon_score\",\"review_length\"]][:N_test]\n",
    "df1=pd.DataFrame(test_features2, columns=unique_words, index=df.index)\n",
    "X_test_DF=pd.concat([df, df1], axis=1)\n",
    "X_test_DF.head()"
   ]
  },
  {
   "cell_type": "code",
   "execution_count": 55,
   "metadata": {
    "collapsed": true
   },
   "outputs": [],
   "source": [
    "from sklearn.ensemble import GradientBoostingClassifier\n",
    "GB3 = GradientBoostingClassifier(n_estimators = 1200) \n",
    "\n",
    "GBM3 = GB3.fit(X_train_DF, y_train1[:N])"
   ]
  },
  {
   "cell_type": "code",
   "execution_count": 56,
   "metadata": {
    "collapsed": false
   },
   "outputs": [
    {
     "data": {
      "text/plain": [
       "0.60999999999999999"
      ]
     },
     "execution_count": 56,
     "metadata": {},
     "output_type": "execute_result"
    }
   ],
   "source": [
    "GBM3.score(X_test_DF, y_test1[:N_test]) "
   ]
  },
  {
   "cell_type": "code",
   "execution_count": 53,
   "metadata": {
    "collapsed": true
   },
   "outputs": [],
   "source": [
    "from sklearn.ensemble import RandomForestClassifier\n",
    "clf3 = RandomForestClassifier(n_estimators = 1200) \n",
    "\n",
    "forest3 = clf3.fit( X_train_DF, y_train1[:N])"
   ]
  },
  {
   "cell_type": "code",
   "execution_count": 54,
   "metadata": {
    "collapsed": false
   },
   "outputs": [
    {
     "data": {
      "text/plain": [
       "0.60399999999999998"
      ]
     },
     "execution_count": 54,
     "metadata": {},
     "output_type": "execute_result"
    }
   ],
   "source": [
    "forest3.score(X_test_DF, y_test1[:N_test]) "
   ]
  },
  {
   "cell_type": "markdown",
   "metadata": {
    "collapsed": true
   },
   "source": [
    "# => Un score de 61% pour seulement 3000 lignes d'entraiment"
   ]
  },
  {
   "cell_type": "markdown",
   "metadata": {
    "collapsed": true
   },
   "source": [
    "## Nous avons atteind 64% pour 10000"
   ]
  }
 ],
 "metadata": {
  "anaconda-cloud": {},
  "kernelspec": {
   "display_name": "Python [conda root]",
   "language": "python",
   "name": "conda-root-py"
  },
  "language_info": {
   "codemirror_mode": {
    "name": "ipython",
    "version": 2
   },
   "file_extension": ".py",
   "mimetype": "text/x-python",
   "name": "python",
   "nbconvert_exporter": "python",
   "pygments_lexer": "ipython2",
   "version": "2.7.12"
  }
 },
 "nbformat": 4,
 "nbformat_minor": 1
}
